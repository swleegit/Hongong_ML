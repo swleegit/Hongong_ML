{
  "nbformat": 4,
  "nbformat_minor": 0,
  "metadata": {
    "colab": {
      "provenance": [],
      "collapsed_sections": [],
      "toc_visible": true,
      "authorship_tag": "ABX9TyMa5+Uz41jBkwfYNqUGNEo0",
      "include_colab_link": true
    },
    "kernelspec": {
      "name": "python3",
      "display_name": "Python 3"
    },
    "language_info": {
      "name": "python"
    }
  },
  "cells": [
    {
      "cell_type": "markdown",
      "metadata": {
        "id": "view-in-github",
        "colab_type": "text"
      },
      "source": [
        "<a href=\"https://colab.research.google.com/github/swleegit/Hongong_ML/blob/main/03_02%EC%84%A0%ED%98%95%ED%9A%8C%EA%B7%80.ipynb\" target=\"_parent\"><img src=\"https://colab.research.google.com/assets/colab-badge.svg\" alt=\"Open In Colab\"/></a>"
      ]
    },
    {
      "cell_type": "markdown",
      "source": [
        "# k-최근접 이웃의 한계\n",
        "[데이터](http://bit.ly/perch_data)  \n",
        "- 학습데이터 범위에서 많이 벗어나는 데이터에 대한 예측은 경계값으로 한정된다.\n"
      ],
      "metadata": {
        "id": "zZYRTEyOs4qU"
      }
    },
    {
      "cell_type": "code",
      "source": [
        "import numpy as np\n",
        "perch_length = np.array([8.4, 13.7, 15.0, 16.2, 17.4, 18.0, 18.7, 19.0, 19.6, 20.0, 21.0,\n",
        "       21.0, 21.0, 21.3, 22.0, 22.0, 22.0, 22.0, 22.0, 22.5, 22.5, 22.7,\n",
        "       23.0, 23.5, 24.0, 24.0, 24.6, 25.0, 25.6, 26.5, 27.3, 27.5, 27.5,\n",
        "       27.5, 28.0, 28.7, 30.0, 32.8, 34.5, 35.0, 36.5, 36.0, 37.0, 37.0,\n",
        "       39.0, 39.0, 39.0, 40.0, 40.0, 40.0, 40.0, 42.0, 43.0, 43.0, 43.5,\n",
        "       44.0])\n",
        "perch_weight = np.array([5.9, 32.0, 40.0, 51.5, 70.0, 100.0, 78.0, 80.0, 85.0, 85.0, 110.0,\n",
        "       115.0, 125.0, 130.0, 120.0, 120.0, 130.0, 135.0, 110.0, 130.0,\n",
        "       150.0, 145.0, 150.0, 170.0, 225.0, 145.0, 188.0, 180.0, 197.0,\n",
        "       218.0, 300.0, 260.0, 265.0, 250.0, 250.0, 300.0, 320.0, 514.0,\n",
        "       556.0, 840.0, 685.0, 700.0, 700.0, 690.0, 900.0, 650.0, 820.0,\n",
        "       850.0, 900.0, 1015.0, 820.0, 1100.0, 1000.0, 1100.0, 1000.0,\n",
        "       1000.0])"
      ],
      "metadata": {
        "id": "POqPe_I2wYzi"
      },
      "execution_count": null,
      "outputs": []
    },
    {
      "cell_type": "code",
      "source": [
        "from sklearn.model_selection import train_test_split\n",
        "\n",
        "train_input, test_input, train_target, test_target = \\\n",
        "train_test_split(perch_length, perch_weight, random_state = 42)\n",
        "\n",
        "#input 데이터를 2차원 배열로 전환 \n",
        "\n",
        "train_input = train_input.reshape(-1,1)\n",
        "test_input = test_input.reshape(-1,1)\n",
        "\n",
        "#이웃수 3인 KNeighborsClassifier 모델\n",
        "\n",
        "from sklearn.neighbors import KNeighborsRegressor\n",
        "\n",
        "knr = KNeighborsRegressor().fit(train_input, train_target)\n",
        "knr.predict([[50]])"
      ],
      "metadata": {
        "colab": {
          "base_uri": "https://localhost:8080/"
        },
        "id": "iR9c5DbLwbfI",
        "outputId": "1a40fa7f-1e33-40c1-99a4-96722c3cbb0f"
      },
      "execution_count": null,
      "outputs": [
        {
          "output_type": "execute_result",
          "data": {
            "text/plain": [
              "array([1010.])"
            ]
          },
          "metadata": {},
          "execution_count": 6
        }
      ]
    },
    {
      "cell_type": "code",
      "source": [
        "#타깃값하고 예측값이 차이가 많이남.\n",
        "#원인을 알기위해서는 시각화가 best\n",
        "\n",
        "import matplotlib.pyplot as plt\n",
        "distances, indexes = knr.kneighbors([[50]])\n",
        "\n",
        "plt.scatter(train_input, train_target)\n",
        "plt.scatter(train_input[indexes], train_target[indexes], marker = 'D')\n",
        "\n",
        "#농어 데이터\n",
        "\n",
        "plt.scatter(50,1033, marker = \"^\")\n",
        "\n",
        "plt.xlabel('length')\n",
        "plt.ylabel('weight')\n",
        "plt.show()"
      ],
      "metadata": {
        "colab": {
          "base_uri": "https://localhost:8080/",
          "height": 279
        },
        "id": "yJdErVYmx-AO",
        "outputId": "b49ec753-02cc-4be8-f0d7-0c218da4f414"
      },
      "execution_count": null,
      "outputs": [
        {
          "output_type": "display_data",
          "data": {
            "text/plain": [
              "<Figure size 432x288 with 1 Axes>"
            ],
            "image/png": "[encoded data removed]"
          },
          "metadata": {
            "needs_background": "light"
          }
        }
      ]
    },
    {
      "cell_type": "code",
      "source": [
        "#KNeighborsRegressor 예측값 : 선택된 이웃의 평균 : 이를 코드로 작성함.\n",
        "print(np.mean(train_target[indexes]))"
      ],
      "metadata": {
        "colab": {
          "base_uri": "https://localhost:8080/"
        },
        "id": "oU93b-Aoyofq",
        "outputId": "e9dc6342-bd38-455a-e422-abf8cbaf60df"
      },
      "execution_count": null,
      "outputs": [
        {
          "output_type": "stream",
          "name": "stdout",
          "text": [
            "1010.0\n"
          ]
        }
      ]
    },
    {
      "cell_type": "code",
      "source": [
        "#KNeighborsRegressor는 학습한 데이터에서 추출되므로 데이터 값이 너무 크더라도 경계값과 같다.\n",
        "print(knr.predict([[100]]))"
      ],
      "metadata": {
        "colab": {
          "base_uri": "https://localhost:8080/"
        },
        "id": "tK-AADF_zGq1",
        "outputId": "e6dc4fe6-6e87-4ab3-a1f7-b140ee853a2b"
      },
      "execution_count": null,
      "outputs": [
        {
          "output_type": "stream",
          "name": "stdout",
          "text": [
            "[1010.]\n"
          ]
        }
      ]
    },
    {
      "cell_type": "code",
      "source": [
        "#타깃값하고 예측값이 차이가 많이남.\n",
        "#원인을 알기위해서는 시각화가 best\n",
        "\n",
        "import matplotlib.pyplot as plt\n",
        "distances, indexes = knr.kneighbors([[100]])\n",
        "\n",
        "plt.scatter(train_input, train_target)\n",
        "plt.scatter(train_input[indexes], train_target[indexes], marker = 'D')\n",
        "\n",
        "#농어 데이터\n",
        "\n",
        "plt.scatter(100,1033, marker = \"^\")\n",
        "\n",
        "plt.xlabel('length')\n",
        "plt.ylabel('weight')\n",
        "plt.show()"
      ],
      "metadata": {
        "colab": {
          "base_uri": "https://localhost:8080/",
          "height": 279
        },
        "id": "OHnwJXL_zVcj",
        "outputId": "242f92d5-3575-4463-d915-9ab0ab7ac0bd"
      },
      "execution_count": null,
      "outputs": [
        {
          "output_type": "display_data",
          "data": {
            "text/plain": [
              "<Figure size 432x288 with 1 Axes>"
            ],
            "image/png": "[encoded data removed]"
          },
          "metadata": {
            "needs_background": "light"
          }
        }
      ]
    },
    {
      "cell_type": "markdown",
      "source": [
        "# 선형회귀(Linear Regression)\n",
        "\n",
        "<img src = \"https://drive.google.com/uc?id=1TYfJCuMPW7cl1GFNDASVhLgdCpDfx8Tz\" object-fit>  \n",
        "1번은 평균으로 예측한다 : 결정계수가 0 이 나올 가능성이크다.\n",
        "\n",
        "2번은 반대로 예측한것으로 결정계수가 음수가 나올 수 있다.\n",
        "\n",
        "- sklearn.linear_model에 LinearRegerssion에 있다.\n",
        "\n",
        "- KNeighbors는 학습 = 단순 데이터 저장 \n",
        "- LinearRegression의 학습 = 계수와 절편을 얻는 것\n",
        "\n",
        "- coefficient = weight = 계수 = .coef_\n",
        "- intercept = 절편 = .intercept_\n",
        "\n",
        "- fit_intercept = False로 지정하면 절편을 학습하지 않는다."
      ],
      "metadata": {
        "id": "0SDPnZ2Izdwl"
      }
    },
    {
      "cell_type": "code",
      "source": [
        "from sklearn.linear_model import LinearRegression\n",
        "lr = LinearRegression()\n",
        "lr.fit(train_input, train_target)\n",
        "print(lr.predict([[50]]))"
      ],
      "metadata": {
        "id": "Ww9-OM1K2TIC",
        "colab": {
          "base_uri": "https://localhost:8080/"
        },
        "outputId": "53b3ec92-5b95-474f-b7d2-0a680b37b8ea"
      },
      "execution_count": null,
      "outputs": [
        {
          "output_type": "stream",
          "name": "stdout",
          "text": [
            "[1241.83860323]\n"
          ]
        }
      ]
    },
    {
      "cell_type": "code",
      "source": [
        "print(lr.coef_, lr.intercept_)"
      ],
      "metadata": {
        "colab": {
          "base_uri": "https://localhost:8080/"
        },
        "id": "dEmJr3SU4sK0",
        "outputId": "08f3f907-5970-4dfb-f0e9-170723d89c4b"
      },
      "execution_count": null,
      "outputs": [
        {
          "output_type": "stream",
          "name": "stdout",
          "text": [
            "[39.01714496] -709.0186449535477\n"
          ]
        }
      ]
    },
    {
      "cell_type": "markdown",
      "source": [
        "- coef_, intercept_는 머신러닝 알고리즘이 찾은 **모델파라미터(model parameter)**\n",
        "\n",
        "- 많은 머신러닝 알고리즘의 훈련(fit)과정은 최적의 모델파라미터를 찾는것과 같다.\n",
        "\n",
        "- 이를 **모델 기반 학습**이라고 한다.\n",
        "\n",
        "- 앞서 사용한 k-최근접 이웃에는 모델파라미터가 없다(단순저장) 이는 **사례기반학습**이라고 한다."
      ],
      "metadata": {
        "id": "_jMAyQVN5eZf"
      }
    },
    {
      "cell_type": "code",
      "source": [
        "#훈련데이터의 산점도를 그리면 \n",
        "plt.scatter(train_input, train_target)\n",
        "\n",
        "#일차함수 그리기 x 양끝, y 양끝\n",
        "plt.plot([15,50], [15*lr.coef_+lr.intercept_, 50*lr.coef_ + lr.intercept_])\n",
        "\n",
        "#농어 50cm 데이터 \n",
        "plt.scatter(50,1241.8, marker = \"^\")\n",
        "plt.xlabel('length')\n",
        "plt.ylabel('weight')\n",
        "plt.show()\n"
      ],
      "metadata": {
        "colab": {
          "base_uri": "https://localhost:8080/",
          "height": 279
        },
        "id": "09E7UQuQ57MW",
        "outputId": "227cdb67-3308-46e5-a074-4e4e72e3d9c2"
      },
      "execution_count": null,
      "outputs": [
        {
          "output_type": "display_data",
          "data": {
            "text/plain": [
              "<Figure size 432x288 with 1 Axes>"
            ],
            "image/png": "[encoded data removed]"
          },
          "metadata": {
            "needs_background": "light"
          }
        }
      ]
    },
    {
      "cell_type": "code",
      "source": [
        "#LinearRegression도 회귀이므로 점수는 결정계수다.\n",
        "\n",
        "print(lr.score(train_input, train_target))\n",
        "print(lr.score(test_input, test_target))"
      ],
      "metadata": {
        "colab": {
          "base_uri": "https://localhost:8080/"
        },
        "id": "PjSZLQKE6nii",
        "outputId": "5ef73a49-8064-4072-d0c2-448886fe79fb"
      },
      "execution_count": null,
      "outputs": [
        {
          "output_type": "stream",
          "name": "stdout",
          "text": [
            "0.939846333997604\n",
            "0.8247503123313558\n"
          ]
        }
      ]
    },
    {
      "cell_type": "markdown",
      "source": [
        "# 다항회귀\n",
        "\n",
        "- 주어진 데이터 범위 내에서는 어느정도 합리적이나, x값이 작아지게 되면 무게는 음수를 갖게된다. 최적의 곡선을 찾는 것이 합리적이다.\n",
        "\n",
        "- 곡선이면 선형식을 만족하지 못하지 않는가?\n",
        "<img src = \"https://drive.google.com/uc?id=1_U9PKwTEkow-fDdEeoW0h5uorBbaejx5\" object-fit>  \n",
        "\n",
        "- 결과적으로 식변형과 치환을 통해 일차식 형태로 나올 수 있으면 모두 선형회귀를 사용할 수 있다.\n",
        "\n",
        "- 이차함수도 x^2를 x로 치환하면 일차식으로 생각할 수 있다.\n",
        "\n",
        "- 따라서 데이터의 분포를 보고 수학적으로 어떤식으로 표현하면 좋을지 생각하고 그 식을 치환과 식변형을 통해 선형식으로 만들 수 있는지 생각하면 된다.\n",
        "\n",
        "- 결국 LinearRegression은 데이터를 나타내는 수식(함수)를 만들어내는 것이다.\n",
        "\n",
        "- 적절한 함수식에 따라 데이터 변형을 통해 열을 늘려도 target값은 변경할 필요 없다.\n"
      ],
      "metadata": {
        "id": "GijcDZGt7Cl4"
      }
    },
    {
      "cell_type": "code",
      "source": [
        "#제곱항을 치환하면 결국 특성이 2개 꼴이다.\n",
        "#input데이터에 제곱한 열을 추가해야한다.\n",
        "import numpy as np\n",
        "train_poly = np.column_stack((train_input**2, train_input))\n",
        "test_poly = np.column_stack((test_input**2, test_input))\n",
        "\n",
        "print(train_poly.shape)\n",
        "print(test_poly.shape)"
      ],
      "metadata": {
        "colab": {
          "base_uri": "https://localhost:8080/"
        },
        "id": "3AoXQmWK-UOO",
        "outputId": "e4e4a808-29ff-47ea-b6e0-d254990d3c5a"
      },
      "execution_count": null,
      "outputs": [
        {
          "output_type": "stream",
          "name": "stdout",
          "text": [
            "(42, 2)\n",
            "(14, 2)\n"
          ]
        }
      ]
    },
    {
      "cell_type": "code",
      "source": [
        "lr = LinearRegression().fit(train_poly, train_target)\n",
        "lr.predict([[50**2,50]]) #열이 2개로 늘었으니까"
      ],
      "metadata": {
        "colab": {
          "base_uri": "https://localhost:8080/"
        },
        "id": "wC4lWVdM_Wa2",
        "outputId": "9e91b35f-e1c2-412a-f268-d734002e0ed1"
      },
      "execution_count": null,
      "outputs": [
        {
          "output_type": "execute_result",
          "data": {
            "text/plain": [
              "array([1573.98423528])"
            ]
          },
          "metadata": {},
          "execution_count": 19
        }
      ]
    },
    {
      "cell_type": "code",
      "source": [
        "print(lr.coef_, lr.intercept_)"
      ],
      "metadata": {
        "colab": {
          "base_uri": "https://localhost:8080/"
        },
        "id": "OtkSZGxsAEwT",
        "outputId": "15f44e30-7862-46f6-c381-66f03ec8b3c6"
      },
      "execution_count": null,
      "outputs": [
        {
          "output_type": "stream",
          "name": "stdout",
          "text": [
            "[  1.01433211 -21.55792498] 116.0502107827827\n"
          ]
        }
      ]
    },
    {
      "cell_type": "markdown",
      "source": [
        "$$무게 = 1.01길이^2 -21.6길이 + 116$$\n",
        "$$길이^2을  왕길이로 치환하면,\n",
        "무게 = 1.01왕길이 -21.6길이 + 116$$\n",
        "\n",
        "- 이런 방정식을 다항식(polynomial)(=최종 식변형식에 열이 2개이상)이라 부르며 다항식을 사용한 선형회귀를 **다항회귀(polynomial regression)**이라고 한다.\n",
        "\n"
      ],
      "metadata": {
        "id": "juQSWGQoAJzd"
      }
    },
    {
      "cell_type": "code",
      "source": [
        "point = np.arange(15,50)\n",
        "plt.scatter(train_input, train_target)\n",
        "\n",
        "#2차함수는 짧게 끊은 1차함수의 연속으로 생각할 수 있다.\n",
        "#plt.plot(x값, y값)\n",
        "plt.plot(point, 1.01*point**2 - 21.6*point + 116.05)\n",
        "\n",
        "plt.scatter(50,1241.8, marker = \"^\")\n",
        "plt.xlabel('length')\n",
        "plt.ylabel('weight')\n",
        "plt.show()"
      ],
      "metadata": {
        "colab": {
          "base_uri": "https://localhost:8080/",
          "height": 279
        },
        "id": "TtCwaB6sBIGz",
        "outputId": "779709d8-5f9d-4aa6-9e61-6c81c70bd65d"
      },
      "execution_count": null,
      "outputs": [
        {
          "output_type": "display_data",
          "data": {
            "text/plain": [
              "<Figure size 432x288 with 1 Axes>"
            ],
            "image/png": "[encoded data removed]"
          },
          "metadata": {
            "needs_background": "light"
          }
        }
      ]
    },
    {
      "cell_type": "code",
      "source": [
        "print(lr.score(train_poly, train_target))\n",
        "print(lr.score(test_poly, test_target))\n",
        "#과소적합임."
      ],
      "metadata": {
        "colab": {
          "base_uri": "https://localhost:8080/"
        },
        "id": "wLKPRQefB0Yj",
        "outputId": "4248ff7f-3cec-48d9-9e95-144373324377"
      },
      "execution_count": null,
      "outputs": [
        {
          "output_type": "stream",
          "name": "stdout",
          "text": [
            "0.9706807451768623\n",
            "0.9775935108325122\n"
          ]
        }
      ]
    },
    {
      "cell_type": "code",
      "source": [],
      "metadata": {
        "id": "Iw5qFdeqB-Vy"
      },
      "execution_count": null,
      "outputs": []
    }
  ]
}