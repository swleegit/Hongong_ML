{
  "nbformat": 4,
  "nbformat_minor": 0,
  "metadata": {
    "colab": {
      "provenance": [],
      "collapsed_sections": [],
      "authorship_tag": "ABX9TyObJ/CovodRNO4zw04KrePc",
      "include_colab_link": true
    },
    "kernelspec": {
      "name": "python3",
      "display_name": "Python 3"
    },
    "language_info": {
      "name": "python"
    }
  },
  "cells": [
    {
      "cell_type": "markdown",
      "metadata": {
        "id": "view-in-github",
        "colab_type": "text"
      },
      "source": [
        "<a href=\"https://colab.research.google.com/github/swleegit/Hongong_ML/blob/main/02_01%ED%9B%88%EB%A0%A8%EC%84%B8%ED%8A%B8%EC%99%80_%ED%85%8C%EC%8A%A4%ED%8A%B8%EC%84%B8%ED%8A%B8.ipynb\" target=\"_parent\"><img src=\"https://colab.research.google.com/assets/colab-badge.svg\" alt=\"Open In Colab\"/></a>"
      ]
    },
    {
      "cell_type": "markdown",
      "source": [
        "# 용어\n",
        "- supervised learning : 지도학습 : 데이터와 정답이 필요하다.\n",
        "  - input : 입력 : 데이터(X)\n",
        "  - target : 타깃 : 정답(y)\n",
        "  - input과 target을 합쳐서 훈련데이터(training data)라고 한다.\n",
        "  - test set, training set : 지도학습의 정확한 평가를 위해서는 반드시 두개의 훈련과 테스트 세트가 있어야한다.\n",
        "  - 훈련세트는 클수록 좋다. 보통 비율은 20-30퍼인데, 훈련세트의 크기가 충분히 크면 테스트 세트는 1%해도 좋다.\n",
        "  - sample : 하나의 데이터(x1,x2,(y))\n",
        "  - sampling bias : 샘플링 편향 : 훈련세트와 테스트세트에 샘플이 골구로 섞이지 않은 경우\n",
        "- unsupervised learning : 비지도학습: 타깃 데이터가 없다. 무엇을 예측하는 것이 아니라 입력 데이터에서 어떤 특징을 찾는데 주로 활용된다. \n",
        "- reinforcement learning : 강화학습\n",
        "- numpy : 배열(array)라이브러리, 고차원배열을 손쉽게 다룰 수 있다. \n",
        "  - dimension : 차원 : 좌표축 : 행,열 \n"
      ],
      "metadata": {
        "id": "l1He-wJ8vG-o"
      }
    },
    {
      "cell_type": "markdown",
      "source": [
        "[데이터](http://bit.ly/bream_smelt)"
      ],
      "metadata": {
        "id": "ehoYwDtawGNO"
      }
    },
    {
      "cell_type": "markdown",
      "source": [
        "# 데이터 편향"
      ],
      "metadata": {
        "id": "ThYg6J0uwzR1"
      }
    },
    {
      "cell_type": "code",
      "source": [
        "fish_length = [25.4, 26.3, 26.5, 29.0, 29.0, 29.7, 29.7, 30.0, 30.0, 30.7, 31.0, 31.0, \n",
        "                31.5, 32.0, 32.0, 32.0, 33.0, 33.0, 33.5, 33.5, 34.0, 34.0, 34.5, 35.0, \n",
        "                35.0, 35.0, 35.0, 36.0, 36.0, 37.0, 38.5, 38.5, 39.5, 41.0, 41.0, 9.8, \n",
        "                10.5, 10.6, 11.0, 11.2, 11.3, 11.8, 11.8, 12.0, 12.2, 12.4, 13.0, 14.3, 15.0]\n",
        "fish_weight = [242.0, 290.0, 340.0, 363.0, 430.0, 450.0, 500.0, 390.0, 450.0, 500.0, 475.0, 500.0, \n",
        "                500.0, 340.0, 600.0, 600.0, 700.0, 700.0, 610.0, 650.0, 575.0, 685.0, 620.0, 680.0, \n",
        "                700.0, 725.0, 720.0, 714.0, 850.0, 1000.0, 920.0, 955.0, 925.0, 975.0, 950.0, 6.7, \n",
        "                7.5, 7.0, 9.7, 9.8, 8.7, 10.0, 9.9, 9.8, 12.2, 13.4, 12.2, 19.7, 19.9]"
      ],
      "metadata": {
        "id": "A8KXqncywQQj"
      },
      "execution_count": null,
      "outputs": []
    },
    {
      "cell_type": "code",
      "source": [
        "fish_data = [[l,w] for l,w in zip(fish_length, fish_weight)]\n",
        "fish_target = [1]*35 + [0] * 14\n"
      ],
      "metadata": {
        "id": "lWPXGOTqwRyw"
      },
      "execution_count": null,
      "outputs": []
    },
    {
      "cell_type": "code",
      "source": [
        "from sklearn.neighbors import KNeighborsClassifier\n",
        "knn = KNeighborsClassifier()"
      ],
      "metadata": {
        "id": "DoHVyJYDwymu"
      },
      "execution_count": null,
      "outputs": []
    },
    {
      "cell_type": "code",
      "source": [
        "train_input = fish_data[:35] # 포함, 포함하지 않음. 연달아 사용\n",
        "train_target = fish_target[:35]\n",
        "test_input = fish_data[35:]\n",
        "test_target = fish_target[35:]"
      ],
      "metadata": {
        "id": "n2BcqWQKxFRM"
      },
      "execution_count": null,
      "outputs": []
    },
    {
      "cell_type": "code",
      "source": [
        "knn.fit(train_input, train_target)\n",
        "knn.score(test_input, test_target)"
      ],
      "metadata": {
        "colab": {
          "base_uri": "https://localhost:8080/"
        },
        "id": "PtHSAhTExmEK",
        "outputId": "eb4cf170-eb88-400a-81ce-46677ffa45ba"
      },
      "execution_count": null,
      "outputs": [
        {
          "output_type": "execute_result",
          "data": {
            "text/plain": [
              "0.0"
            ]
          },
          "metadata": {},
          "execution_count": 30
        }
      ]
    },
    {
      "cell_type": "markdown",
      "source": [
        "# numpy"
      ],
      "metadata": {
        "id": "WERzqRKxyNtD"
      }
    },
    {
      "cell_type": "code",
      "source": [
        "#배열을 만드는 방법1. np.array(리스트) \n",
        "import numpy as np\n",
        "\n",
        "input_arr = np.array(fish_data)\n",
        "target_arr = np.array(fish_target)\n"
      ],
      "metadata": {
        "id": "-jFF_bHcygiC"
      },
      "execution_count": null,
      "outputs": []
    },
    {
      "cell_type": "code",
      "source": [
        "#배열의 크기 (행, 열 )을 알려주는 shape\n",
        "print(input_arr.shape)\n",
        "print(target_arr.shape)"
      ],
      "metadata": {
        "colab": {
          "base_uri": "https://localhost:8080/"
        },
        "id": "U8G_jyNoy3t_",
        "outputId": "7923c67e-d848-4d3d-d26b-2b084edb7126"
      },
      "execution_count": null,
      "outputs": [
        {
          "output_type": "stream",
          "name": "stdout",
          "text": [
            "(49, 2)\n",
            "(49,)\n"
          ]
        }
      ]
    },
    {
      "cell_type": "code",
      "source": [
        "#배열을 만드는 방법2. np.arange(시작, 끝, 단계).reshape(축1,축2,축3) : 축1*축2*축3 = 원소개수\n",
        "#배열을 만드는 방법3. np.linspace(시작, 끝, 등분)\n",
        "array1 = np.arange(32).reshape(2,2,8)\n",
        "array2 = np.linspace(0,100,200).reshape(5,5,8)\n",
        "\n",
        "print(array1)\n",
        "print(\"\\n\")\n",
        "print(array2)"
      ],
      "metadata": {
        "colab": {
          "base_uri": "https://localhost:8080/"
        },
        "id": "A-xycmoXzPkU",
        "outputId": "2b6fba0f-33e6-46e7-af1c-0330f8ebda1e"
      },
      "execution_count": null,
      "outputs": [
        {
          "output_type": "stream",
          "name": "stdout",
          "text": [
            "[[[ 0  1  2  3  4  5  6  7]\n",
            "  [ 8  9 10 11 12 13 14 15]]\n",
            "\n",
            " [[16 17 18 19 20 21 22 23]\n",
            "  [24 25 26 27 28 29 30 31]]]\n",
            "\n",
            "\n",
            "[[[  0.           0.50251256   1.00502513   1.50753769   2.01005025\n",
            "     2.51256281   3.01507538   3.51758794]\n",
            "  [  4.0201005    4.52261307   5.02512563   5.52763819   6.03015075\n",
            "     6.53266332   7.03517588   7.53768844]\n",
            "  [  8.04020101   8.54271357   9.04522613   9.54773869  10.05025126\n",
            "    10.55276382  11.05527638  11.55778894]\n",
            "  [ 12.06030151  12.56281407  13.06532663  13.5678392   14.07035176\n",
            "    14.57286432  15.07537688  15.57788945]\n",
            "  [ 16.08040201  16.58291457  17.08542714  17.5879397   18.09045226\n",
            "    18.59296482  19.09547739  19.59798995]]\n",
            "\n",
            " [[ 20.10050251  20.60301508  21.10552764  21.6080402   22.11055276\n",
            "    22.61306533  23.11557789  23.61809045]\n",
            "  [ 24.12060302  24.62311558  25.12562814  25.6281407   26.13065327\n",
            "    26.63316583  27.13567839  27.63819095]\n",
            "  [ 28.14070352  28.64321608  29.14572864  29.64824121  30.15075377\n",
            "    30.65326633  31.15577889  31.65829146]\n",
            "  [ 32.16080402  32.66331658  33.16582915  33.66834171  34.17085427\n",
            "    34.67336683  35.1758794   35.67839196]\n",
            "  [ 36.18090452  36.68341709  37.18592965  37.68844221  38.19095477\n",
            "    38.69346734  39.1959799   39.69849246]]\n",
            "\n",
            " [[ 40.20100503  40.70351759  41.20603015  41.70854271  42.21105528\n",
            "    42.71356784  43.2160804   43.71859296]\n",
            "  [ 44.22110553  44.72361809  45.22613065  45.72864322  46.23115578\n",
            "    46.73366834  47.2361809   47.73869347]\n",
            "  [ 48.24120603  48.74371859  49.24623116  49.74874372  50.25125628\n",
            "    50.75376884  51.25628141  51.75879397]\n",
            "  [ 52.26130653  52.7638191   53.26633166  53.76884422  54.27135678\n",
            "    54.77386935  55.27638191  55.77889447]\n",
            "  [ 56.28140704  56.7839196   57.28643216  57.78894472  58.29145729\n",
            "    58.79396985  59.29648241  59.79899497]]\n",
            "\n",
            " [[ 60.30150754  60.8040201   61.30653266  61.80904523  62.31155779\n",
            "    62.81407035  63.31658291  63.81909548]\n",
            "  [ 64.32160804  64.8241206   65.32663317  65.82914573  66.33165829\n",
            "    66.83417085  67.33668342  67.83919598]\n",
            "  [ 68.34170854  68.84422111  69.34673367  69.84924623  70.35175879\n",
            "    70.85427136  71.35678392  71.85929648]\n",
            "  [ 72.36180905  72.86432161  73.36683417  73.86934673  74.3718593\n",
            "    74.87437186  75.37688442  75.87939698]\n",
            "  [ 76.38190955  76.88442211  77.38693467  77.88944724  78.3919598\n",
            "    78.89447236  79.39698492  79.89949749]]\n",
            "\n",
            " [[ 80.40201005  80.90452261  81.40703518  81.90954774  82.4120603\n",
            "    82.91457286  83.41708543  83.91959799]\n",
            "  [ 84.42211055  84.92462312  85.42713568  85.92964824  86.4321608\n",
            "    86.93467337  87.43718593  87.93969849]\n",
            "  [ 88.44221106  88.94472362  89.44723618  89.94974874  90.45226131\n",
            "    90.95477387  91.45728643  91.95979899]\n",
            "  [ 92.46231156  92.96482412  93.46733668  93.96984925  94.47236181\n",
            "    94.97487437  95.47738693  95.9798995 ]\n",
            "  [ 96.48241206  96.98492462  97.48743719  97.98994975  98.49246231\n",
            "    98.99497487  99.49748744 100.        ]]]\n"
          ]
        }
      ]
    },
    {
      "cell_type": "code",
      "source": [
        "#array 랜덤하게 섞기\n",
        "#np.random.seed()\n",
        "#np.random.shuffle(ndarray)\n",
        "np.random.seed(42) #시드를 지정하면 반복실행해도 같은 결과 \n",
        "index = np.arange(49)\n",
        "np.random.shuffle(index)\n",
        "print(index)"
      ],
      "metadata": {
        "colab": {
          "base_uri": "https://localhost:8080/"
        },
        "id": "vk2pV5DGz8wt",
        "outputId": "05de9fe7-ebbe-487c-8fc8-0ee9f310f591"
      },
      "execution_count": null,
      "outputs": [
        {
          "output_type": "stream",
          "name": "stdout",
          "text": [
            "[13 45 47 44 17 27 26 25 31 19 12  4 34  8  3  6 40 41 46 15  9 16 24 33\n",
            " 30  0 43 32  5 29 11 36  1 21  2 37 35 23 39 10 22 18 48 20  7 42 14 28\n",
            " 38]\n"
          ]
        }
      ]
    },
    {
      "cell_type": "code",
      "source": [
        "#다차원 배열에서 shuffle\n",
        "array = np.arange(32).reshape(4,8)\n",
        "print(array)\n",
        "np.random.seed(42)\n",
        "np.random.shuffle(array)\n",
        "array\n",
        "\n",
        "#다차원 배열일 경우 첫번째 축에 대해서만 섞는다. "
      ],
      "metadata": {
        "colab": {
          "base_uri": "https://localhost:8080/"
        },
        "id": "e-3T1u3m64up",
        "outputId": "9c26fa97-6459-4497-9298-d948cd6ea48e"
      },
      "execution_count": null,
      "outputs": [
        {
          "output_type": "stream",
          "name": "stdout",
          "text": [
            "[[ 0  1  2  3  4  5  6  7]\n",
            " [ 8  9 10 11 12 13 14 15]\n",
            " [16 17 18 19 20 21 22 23]\n",
            " [24 25 26 27 28 29 30 31]]\n"
          ]
        },
        {
          "output_type": "execute_result",
          "data": {
            "text/plain": [
              "array([[ 8,  9, 10, 11, 12, 13, 14, 15],\n",
              "       [24, 25, 26, 27, 28, 29, 30, 31],\n",
              "       [ 0,  1,  2,  3,  4,  5,  6,  7],\n",
              "       [16, 17, 18, 19, 20, 21, 22, 23]])"
            ]
          },
          "metadata": {},
          "execution_count": 45
        }
      ]
    },
    {
      "cell_type": "code",
      "source": [
        "#배열 인덱싱 \n",
        "#이산된 여러개의 열을 선택할때 [[인덱스1. 인덱스2]]\n",
        "print(input_arr[[1,3]])\n",
        "\n",
        "#한개의 원소를 선택할 때 \n",
        "print(input_arr[1,0]) # 2행 1열 "
      ],
      "metadata": {
        "colab": {
          "base_uri": "https://localhost:8080/"
        },
        "id": "Lj2uk2XC01af",
        "outputId": "c94021d0-1767-45c7-adc8-7f1e5d144cc7"
      },
      "execution_count": null,
      "outputs": [
        {
          "output_type": "stream",
          "name": "stdout",
          "text": [
            "[[ 26.3 290. ]\n",
            " [ 29.  363. ]]\n",
            "26.3\n"
          ]
        }
      ]
    },
    {
      "cell_type": "code",
      "source": [
        "train_input = input_arr[index[:35]] #[[]]구조 인덱스에 해당하는 행을 뽑아냄 \n",
        "train_target = target_arr[index[:35]]"
      ],
      "metadata": {
        "id": "4yPtErtU1QNy"
      },
      "execution_count": null,
      "outputs": []
    },
    {
      "cell_type": "code",
      "source": [
        "test_input = input_arr[index[35:]]\n",
        "test_target = target_arr[index[35:]]"
      ],
      "metadata": {
        "id": "e0YahUP61yAH"
      },
      "execution_count": null,
      "outputs": []
    },
    {
      "cell_type": "code",
      "source": [
        "import matplotlib.pyplot as plt\n",
        "\n",
        "#scatter은 input data(X)의 분포를 판단하기 위함.\n",
        "#처음 2개의 매개변수로는 특성1, 특성2를 대입해야함\n",
        "#주어진 train_input 열2개로 이루어져 있음. \n",
        "\n",
        "#plt.scatter 두번 연달아 하면 각 데이터를 구분하기 위해 색으로 찍힘 \n",
        "#이전에는 각 두개가 각 레이블을 나타내었기에 색이 레이블이었지만\n",
        "#여기서는 아님 \n",
        "plt.scatter(train_input[:,0],train_input[:,1])\n",
        "plt.scatter(test_input[:,0],test_input[:,1])\n",
        "plt.xlabel('length')\n",
        "plt.ylabel('weight')\n",
        "plt.show()"
      ],
      "metadata": {
        "colab": {
          "base_uri": "https://localhost:8080/",
          "height": 279
        },
        "id": "nxqHmytV2O60",
        "outputId": "e25f4aaf-f70f-406c-ac15-09f9835418bc"
      },
      "execution_count": null,
      "outputs": [
        {
          "output_type": "display_data",
          "data": {
            "text/plain": [
              "<Figure size 432x288 with 1 Axes>"
            ],
            "image/png": "[encoded data removed]"
          },
          "metadata": {
            "needs_background": "light"
          }
        }
      ]
    },
    {
      "cell_type": "markdown",
      "source": [
        "# 두번째 머신러닝 프로그램 \n",
        "- 주의! fit 메서드를 실행하면 기존에 있든 KNeighborsClassifier의 클래스 객체는 이전에 학습한 모든 것(저장된 훈련데이터)를 모두 잃어버린다.\n",
        "- 이전 모델을 그대로 두고 싶다면 객체를 새롭게 만들어 fit 해야한다."
      ],
      "metadata": {
        "id": "kdH-r7w_5GrV"
      }
    },
    {
      "cell_type": "code",
      "source": [
        "#편향된 샘플링으로 학습한 모델과 비교하기 위해 새로운 객체를 만든다.\n",
        "knn_1 = KNeighborsClassifier().fit(train_input, train_target)\n",
        "knn_1.score(test_input, test_target)\n"
      ],
      "metadata": {
        "colab": {
          "base_uri": "https://localhost:8080/"
        },
        "id": "uoTC-JZE5hBE",
        "outputId": "a9402440-bea0-44cd-ebb0-9dee324888b9"
      },
      "execution_count": null,
      "outputs": [
        {
          "output_type": "execute_result",
          "data": {
            "text/plain": [
              "1.0"
            ]
          },
          "metadata": {},
          "execution_count": 40
        }
      ]
    },
    {
      "cell_type": "code",
      "source": [
        "#테스트 데이터에 해당하는 타깃값을 확인하고 싶다면, 예측값을 알고 싶다면 \n",
        "knn_1.predict(test_input) #ndarray형식으로 반환한다. "
      ],
      "metadata": {
        "colab": {
          "base_uri": "https://localhost:8080/"
        },
        "id": "5Ch1OE7A55CF",
        "outputId": "7efdc629-a05a-4935-ade6-fdf1c495942a"
      },
      "execution_count": null,
      "outputs": [
        {
          "output_type": "execute_result",
          "data": {
            "text/plain": [
              "array([0, 0, 1, 0, 1, 1, 1, 0, 1, 1, 0, 1, 1, 0])"
            ]
          },
          "metadata": {},
          "execution_count": 41
        }
      ]
    },
    {
      "cell_type": "code",
      "source": [
        "print(test_target) #위에 predict 결과값과 정확히 일치한다. 따라서 정확도 1 임. "
      ],
      "metadata": {
        "colab": {
          "base_uri": "https://localhost:8080/"
        },
        "id": "dBEVE3qu6G_S",
        "outputId": "15058707-3f8d-4ab0-85b9-4cb5197be96d"
      },
      "execution_count": null,
      "outputs": [
        {
          "output_type": "stream",
          "name": "stdout",
          "text": [
            "[0 0 1 0 1 1 1 0 1 1 0 1 1 0]\n"
          ]
        }
      ]
    },
    {
      "cell_type": "markdown",
      "source": [
        "scatter 이전과 비교\n",
        "\n",
        "n_neighbors = ~ 로 변경가능함 \n",
        "\n",
        "\n",
        "```\n",
        "knn1 = KNeighborsClassifier().fit(x1,y1)\n",
        "knn1.n_neighbors = 6\n",
        "\n",
        "- knn1.fit(x2, y2) #이전에 학습(저장)했던 데이터 x1과 y1 사라짐\n",
        "\n",
        "x1과y1을 살리고 싶다면 \n",
        "\n",
        "- knn2 = KNeighborsClassifier().fit(x2,y2)\n",
        "새롭게 객채를 만들어야함\n",
        "```"
      ],
      "metadata": {
        "id": "GxAWm6hr9H6P"
      }
    }
  ]
}