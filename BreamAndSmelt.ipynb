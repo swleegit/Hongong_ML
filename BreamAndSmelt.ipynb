{
  "nbformat": 4,
  "nbformat_minor": 0,
  "metadata": {
    "colab": {
      "provenance": [],
      "collapsed_sections": [],
      "mount_file_id": "1krtBa-ZJhNbKjWnBnylBZlPwbQzpH9Wl",
      "authorship_tag": "ABX9TyMXXqtBYMvkKy8/WXmvyc5t",
      "include_colab_link": true
    },
    "kernelspec": {
      "name": "python3",
      "display_name": "Python 3"
    },
    "language_info": {
      "name": "python"
    }
  },
  "cells": [
    {
      "cell_type": "markdown",
      "metadata": {
        "id": "view-in-github",
        "colab_type": "text"
      },
      "source": [
        "<a href=\"https://colab.research.google.com/github/swleegit/Hongong_ML/blob/main/BreamAndSmelt.ipynb\" target=\"_parent\"><img src=\"https://colab.research.google.com/assets/colab-badge.svg\" alt=\"Open In Colab\"/></a>"
      ]
    },
    {
      "cell_type": "markdown",
      "source": [
        "[생선 데이터 셋(원본 : 캐글)](https://www.kaggle.com/aungpyaeap/fish-market)  \n"
      ],
      "metadata": {
        "id": "ZWrFb79PvOnd"
      }
    },
    {
      "cell_type": "markdown",
      "source": [
        "# 머신러닝과 hardcoding\n",
        "- 머신러닝은 데이터로부터 스스로 기준을 찾아서 일을 한다.\n",
        "- hard coding(if,else)는 내가 정해준 기준대로 일을 하게 하는 것 \n",
        "- hard coding이 반드시 안좋은것만은 아니다! \n",
        "- hard coding의 단점은 결정에 필요한 로직은 한 분야나 작업에 국한된다. 작업이 조금만 변경되더라도 시스템 전체를 다시 개발해야한다."
      ],
      "metadata": {
        "id": "VI4GCknCyGcu"
      }
    },
    {
      "cell_type": "markdown",
      "source": [
        "# 머신러닝 개발 프로세스\n",
        "\n",
        "- 어떤 질문에 대한 답을 원하는가? 가지고 있는 데이터가 원하는 답을 줄 수 있는가?\n",
        "- 내 질문을 머신러닝의 문제로 가장 잘 기술하는 방법은 무엇인가? (어떤 모델을 - 선택할 것인가?)\n",
        "- 문제를 풀기에 충분한 데이터를 모았는가?\n",
        "- 내가 추출한 데이터의 특성은 무엇이며 좋은 예측을 만들어낼 수 있을 것인가?\n",
        "- 머신러닝 애플리케이션의 성과를 어떻게 측정할 수 있는가?\n",
        "- 머신러닝 솔루션이 다른 연구나 제품과 어떻게 협력할 수 있는가?\n",
        "\n",
        "- 넓은시각으로 보면, 머신러닝 알고리즙이나 방법론은 특정 문제를 푸는 전체 과정의 일부일 뿐이다. 항상 머리속에 전체시스템에 대한 큰 그림을 담고 있어야 한다.\n",
        "\n",
        "- 파이썬은 GUI와 연계 가능 : 아이콘으로 편한 머신러닝 모델을 만들 수도 있겠다.\n"
      ],
      "metadata": {
        "id": "YTNUYDSky5Fo"
      }
    },
    {
      "cell_type": "markdown",
      "source": [
        "# 데이터 분석 전 과정 \n",
        "1. 업무 이해 및 도메인 지식 습득 : 분석하고자는 도메인 지식이 필수\n",
        "2. 데이터 수집 및 전처리: 데이터 분석에 알맞는 형태의 데이터로 가공\n",
        "3. 탐색적 데이터 분석(통계분석) : 모델링에 앞서 전반적인 데이터의 이해\n",
        "4. 모델링(머신러닝) : 문제해결에 적합한 모델 선택 및 학습\n",
        "5. 결과 분석 및 시각화 : 결과 분석 및 현업 공유를 위한 시각화"
      ],
      "metadata": {
        "id": "VBNZzdwV0Tzo"
      }
    },
    {
      "cell_type": "markdown",
      "source": [
        "# 용어정리\n",
        "- class : 분류에서 종류를 의미함.\n",
        "- classification : 분류 (반대 : 회귀)\n",
        "- binary classification : 이진분류 (양성(타깃) : 1 음성 : -1)\n",
        "- feature : 특성(열) : 데이터의 특징 \n",
        "- scatter plot : 산점도 : 두 개의 변수(특징)간의 관계를 표현하는 방법\n",
        "- 2차원 그래프 : 특성이 2개인 그래프\n",
        "- linear : 선형적 : 산점도 그래프가 일직선에 가까운 형태 \n",
        "- 2차원 리스트 : 리스트의 리스트 "
      ],
      "metadata": {
        "id": "lR0oFbwUzWcQ"
      }
    },
    {
      "cell_type": "code",
      "source": [
        "!sudo apt-get install -y fonts-nanum\n",
        "!sudo fc-cache -fv\n",
        "!rm ~/.cache/matplotlib -rf"
      ],
      "metadata": {
        "colab": {
          "base_uri": "https://localhost:8080/"
        },
        "id": "VKIESSqW2Bau",
        "outputId": "a6ae6cc4-da29-484c-865f-2b7b44c33491"
      },
      "execution_count": null,
      "outputs": [
        {
          "output_type": "stream",
          "name": "stdout",
          "text": [
            "Reading package lists... Done\n",
            "Building dependency tree       \n",
            "Reading state information... Done\n",
            "The following package was automatically installed and is no longer required:\n",
            "  libnvidia-common-460\n",
            "Use 'sudo apt autoremove' to remove it.\n",
            "The following NEW packages will be installed:\n",
            "  fonts-nanum\n",
            "0 upgraded, 1 newly installed, 0 to remove and 20 not upgraded.\n",
            "Need to get 9,604 kB of archives.\n",
            "After this operation, 29.5 MB of additional disk space will be used.\n",
            "Get:1 http://archive.ubuntu.com/ubuntu bionic/universe amd64 fonts-nanum all 20170925-1 [9,604 kB]\n",
            "Fetched 9,604 kB in 2s (5,236 kB/s)\n",
            "debconf: unable to initialize frontend: Dialog\n",
            "debconf: (No usable dialog-like program is installed, so the dialog based frontend cannot be used. at /usr/share/perl5/Debconf/FrontEnd/Dialog.pm line 76, <> line 1.)\n",
            "debconf: falling back to frontend: Readline\n",
            "debconf: unable to initialize frontend: Readline\n",
            "debconf: (This frontend requires a controlling tty.)\n",
            "debconf: falling back to frontend: Teletype\n",
            "dpkg-preconfigure: unable to re-open stdin: \n",
            "Selecting previously unselected package fonts-nanum.\n",
            "(Reading database ... 155569 files and directories currently installed.)\n",
            "Preparing to unpack .../fonts-nanum_20170925-1_all.deb ...\n",
            "Unpacking fonts-nanum (20170925-1) ...\n",
            "Setting up fonts-nanum (20170925-1) ...\n",
            "Processing triggers for fontconfig (2.12.6-0ubuntu2) ...\n",
            "/usr/share/fonts: caching, new cache contents: 0 fonts, 1 dirs\n",
            "/usr/share/fonts/truetype: caching, new cache contents: 0 fonts, 3 dirs\n",
            "/usr/share/fonts/truetype/humor-sans: caching, new cache contents: 1 fonts, 0 dirs\n",
            "/usr/share/fonts/truetype/liberation: caching, new cache contents: 16 fonts, 0 dirs\n",
            "/usr/share/fonts/truetype/nanum: caching, new cache contents: 10 fonts, 0 dirs\n",
            "/usr/local/share/fonts: caching, new cache contents: 0 fonts, 0 dirs\n",
            "/root/.local/share/fonts: skipping, no such directory\n",
            "/root/.fonts: skipping, no such directory\n",
            "/var/cache/fontconfig: cleaning cache directory\n",
            "/root/.cache/fontconfig: not cleaning non-existent cache directory\n",
            "/root/.fontconfig: not cleaning non-existent cache directory\n",
            "fc-cache: succeeded\n"
          ]
        }
      ]
    },
    {
      "cell_type": "code",
      "source": [
        "import matplotlib.pyplot as plt\n",
        "\n",
        "plt.rc('font', family='NanumBarunGothic') "
      ],
      "metadata": {
        "id": "6U8WjFCO4e-f"
      },
      "execution_count": null,
      "outputs": []
    },
    {
      "cell_type": "markdown",
      "source": [
        "[도미 데이터 셋](http://bit.ly/bream_list)\n"
      ],
      "metadata": {
        "id": "XUxYrRty4-c_"
      }
    },
    {
      "cell_type": "code",
      "source": [
        "bream_length = [25.4, 26.3, 26.5, 29.0, 29.0, 29.7, 29.7, 30.0, 30.0, 30.7, 31.0, 31.0, \n",
        "                31.5, 32.0, 32.0, 32.0, 33.0, 33.0, 33.5, 33.5, 34.0, 34.0, 34.5, 35.0, \n",
        "                35.0, 35.0, 35.0, 36.0, 36.0, 37.0, 38.5, 38.5, 39.5, 41.0, 41.0]\n",
        "bream_weight = [242.0, 290.0, 340.0, 363.0, 430.0, 450.0, 500.0, 390.0, 450.0, 500.0, 475.0, 500.0, \n",
        "                500.0, 340.0, 600.0, 600.0, 700.0, 700.0, 610.0, 650.0, 575.0, 685.0, 620.0, 680.0, \n",
        "                700.0, 725.0, 720.0, 714.0, 850.0, 1000.0, 920.0, 955.0, 925.0, 975.0, 950.0]"
      ],
      "metadata": {
        "id": "HI5lFvKK0I6o"
      },
      "execution_count": null,
      "outputs": []
    },
    {
      "cell_type": "code",
      "source": [
        "#데이터 분석하기 전에 전반적인 데이터에 대한 이해가 필요하다.\n",
        "#숫자보단 시각화로 그들간의 관계를 파악하자.\n",
        "\n",
        "import matplotlib.pyplot as plt\n",
        "\n",
        "#scatter의 변수는 리스트 또는 ndarray\n",
        "plt.scatter(bream_length, bream_weight)\n",
        "plt.xlabel(\"length\")\n",
        "plt.ylabel(\"weight\")\n",
        "plt.show()"
      ],
      "metadata": {
        "colab": {
          "base_uri": "https://localhost:8080/",
          "height": 279
        },
        "id": "d1fXvca01U0W",
        "outputId": "b6c425ad-912f-4465-95fe-1b74e8d21ef3"
      },
      "execution_count": null,
      "outputs": [
        {
          "output_type": "display_data",
          "data": {
            "text/plain": [
              "<Figure size 432x288 with 1 Axes>"
            ],
            "image/png": "[encoded data removed]"
          },
          "metadata": {
            "needs_background": "light"
          }
        }
      ]
    },
    {
      "cell_type": "markdown",
      "source": [
        "[빙어 데이터 셋](http://bit.ly/smelt_list)"
      ],
      "metadata": {
        "id": "q3iJIgeg5DFG"
      }
    },
    {
      "cell_type": "code",
      "source": [
        "smelt_length = [9.8, 10.5, 10.6, 11.0, 11.2, 11.3, 11.8, 11.8, 12.0, 12.2, 12.4, 13.0, 14.3, 15.0]\n",
        "smelt_weight = [6.7, 7.5, 7.0, 9.7, 9.8, 8.7, 10.0, 9.9, 9.8, 12.2, 13.4, 12.2, 19.7, 19.9]"
      ],
      "metadata": {
        "id": "qzcfk9p35DWP"
      },
      "execution_count": null,
      "outputs": []
    },
    {
      "cell_type": "code",
      "source": [
        "#한 plot에 여러 그래프를 동시에 그리기\n",
        "plt.scatter(bream_length, bream_weight, label = 'bream')\n",
        "plt.scatter(smelt_length, smelt_weight, label= 'smelt')\n",
        "plt.xlabel(\"length\")\n",
        "plt.ylabel(\"weight\")\n",
        "plt.legend(loc = 'best')\n",
        "plt.show()"
      ],
      "metadata": {
        "colab": {
          "base_uri": "https://localhost:8080/",
          "height": 279
        },
        "id": "AKRGVZKN5lv2",
        "outputId": "3c67444f-93e6-4aa7-e59f-59f375ac6a24"
      },
      "execution_count": null,
      "outputs": [
        {
          "output_type": "display_data",
          "data": {
            "text/plain": [
              "<Figure size 432x288 with 1 Axes>"
            ],
            "image/png": "[encoded data removed]"
          },
          "metadata": {
            "needs_background": "light"
          }
        }
      ]
    },
    {
      "cell_type": "code",
      "source": [
        "# 두 변수간 상관관계 파악 (증증, 감감)\n",
        "\n",
        "# 두개의 리스트를 하나의 데이터 프레임으로 만들기\n",
        "import pandas as pd \n",
        "data_bream = {'bream길이' : bream_length, 'bream무게' : bream_weight}\n",
        "df_bream = pd.DataFrame(data_bream)\n",
        "print(df_bream.corr())\n",
        "\n",
        "data_smelt = {'smelt길이' : smelt_length, \"smelt무게\" : smelt_weight}\n",
        "df_smelt = pd.DataFrame(data_smelt)\n",
        "print(df_smelt.corr())\n",
        "\n",
        "#결과를 보면 알겠지만, 기울기와 관계없이 누가더 y=ax꼴을 더 많이 만족하는지에 대한 수치임.\n",
        "#산점도는 기울기, 선형성을 다 파악 가능함! \n",
        "#누가 더 선형적인지 애매하다면 corr을 사용하는걸 추천\n"
      ],
      "metadata": {
        "colab": {
          "base_uri": "https://localhost:8080/"
        },
        "id": "0bvjqUcP8XZS",
        "outputId": "37502eb4-c59c-4bf8-9f82-e7c1e4619021"
      },
      "execution_count": null,
      "outputs": [
        {
          "output_type": "stream",
          "name": "stdout",
          "text": [
            "          bream길이   bream무게\n",
            "bream길이  1.000000  0.946256\n",
            "bream무게  0.946256  1.000000\n",
            "          smelt길이   smelt무게\n",
            "smelt길이  1.000000  0.960818\n",
            "smelt무게  0.960818  1.000000\n"
          ]
        }
      ]
    },
    {
      "cell_type": "code",
      "source": [
        "#학습시킬 데이터(_X)를 만들자.\n",
        "#도미와 빙어 데이터를 합치자.\n",
        "#리스트a = 리스트b + 리스트c , 리스트a의 원소는 두개다 합친것 \n",
        "\n",
        "length = [bream_length, smelt_length]\n",
        "weight = [bream_weight, smelt_weight]\n",
        "\n",
        "#사이킷 런에 학습시키기 위해선 2차원 리스트 (행,열) 즉 아래로 길게 늘어뜨려야한다.\n",
        "#2차원 리스트는 특성이 2개여서가 아니라 가로로 긴것을 세로(행,열)로 바꾼다는 의미\n",
        "#ndarray 가로로 길게 배열이라면 transpose로 전환 가능하다.\n",
        "#학습시킬때는 X,y이고 X에는 모든 특성이 한번에 묶여 있음. 따라서 저 위의 두개의 특성을 묶을 필요 있다.\n",
        "\n",
        "#X의 명명은 보통 ~_data\n",
        "fish_data =[[l,w] for l,w in zip(length, weight)]\n",
        "print(fish_data)\n",
        "#줄바꿈없이 한줄로 출력됨"
      ],
      "metadata": {
        "colab": {
          "base_uri": "https://localhost:8080/"
        },
        "id": "GIbO5Htq-RpB",
        "outputId": "0e966cde-955f-458b-84ef-7df84ef3cfa2"
      },
      "execution_count": null,
      "outputs": [
        {
          "output_type": "stream",
          "name": "stdout",
          "text": [
            "[[[25.4, 26.3, 26.5, 29.0, 29.0, 29.7, 29.7, 30.0, 30.0, 30.7, 31.0, 31.0, 31.5, 32.0, 32.0, 32.0, 33.0, 33.0, 33.5, 33.5, 34.0, 34.0, 34.5, 35.0, 35.0, 35.0, 35.0, 36.0, 36.0, 37.0, 38.5, 38.5, 39.5, 41.0, 41.0], [242.0, 290.0, 340.0, 363.0, 430.0, 450.0, 500.0, 390.0, 450.0, 500.0, 475.0, 500.0, 500.0, 340.0, 600.0, 600.0, 700.0, 700.0, 610.0, 650.0, 575.0, 685.0, 620.0, 680.0, 700.0, 725.0, 720.0, 714.0, 850.0, 1000.0, 920.0, 955.0, 925.0, 975.0, 950.0]], [[9.8, 10.5, 10.6, 11.0, 11.2, 11.3, 11.8, 11.8, 12.0, 12.2, 12.4, 13.0, 14.3, 15.0], [6.7, 7.5, 7.0, 9.7, 9.8, 8.7, 10.0, 9.9, 9.8, 12.2, 13.4, 12.2, 19.7, 19.9]]]\n"
          ]
        }
      ]
    },
    {
      "cell_type": "code",
      "source": [
        "#y만들기 (~_target)\n",
        "#도미와 빙어를 순서대로 나열함. 도미가 타깃(1)\n",
        "\n",
        "#파이썬 곱셈 연산자 이용 \n",
        "fish = [1] * 4 + [0] * 5\n",
        "print(fish)\n",
        "fish_target = [1] * 5 + [0] * 5\n",
        "fish_target"
      ],
      "metadata": {
        "colab": {
          "base_uri": "https://localhost:8080/"
        },
        "id": "anQtWa-6BOOb",
        "outputId": "90588a2c-f979-483f-eee2-b20834f3164c"
      },
      "execution_count": null,
      "outputs": [
        {
          "output_type": "stream",
          "name": "stdout",
          "text": [
            "[1, 1, 1, 1, 0, 0, 0, 0, 0]\n"
          ]
        },
        {
          "output_type": "execute_result",
          "data": {
            "text/plain": [
              "[1, 1, 1, 1, 1, 0, 0, 0, 0, 0]"
            ]
          },
          "metadata": {},
          "execution_count": 37
        }
      ]
    }
  ]
}