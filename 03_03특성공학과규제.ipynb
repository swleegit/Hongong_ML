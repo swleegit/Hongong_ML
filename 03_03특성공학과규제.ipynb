{
  "nbformat": 4,
  "nbformat_minor": 0,
  "metadata": {
    "colab": {
      "provenance": [],
      "collapsed_sections": [],
      "toc_visible": true,
      "mount_file_id": "184sfIBFKxrNxLOnQAgVilm9vAHtdJlgU",
      "authorship_tag": "ABX9TyOSUnLBdLDI4BnybnIN1tmT",
      "include_colab_link": true
    },
    "kernelspec": {
      "name": "python3",
      "display_name": "Python 3"
    },
    "language_info": {
      "name": "python"
    }
  },
  "cells": [
    {
      "cell_type": "markdown",
      "metadata": {
        "id": "view-in-github",
        "colab_type": "text"
      },
      "source": [
        "<a href=\"https://colab.research.google.com/github/swleegit/Hongong_ML/blob/main/03_03%ED%8A%B9%EC%84%B1%EA%B3%B5%ED%95%99%EA%B3%BC%EA%B7%9C%EC%A0%9C.ipynb\" target=\"_parent\"><img src=\"https://colab.research.google.com/assets/colab-badge.svg\" alt=\"Open In Colab\"/></a>"
      ]
    },
    {
      "cell_type": "markdown",
      "source": [
        "# 용어\n",
        "- 다항회귀(polynominal regression) : 한가지 특성을 변형해서 다항식을 만듬. ex)y = ax^2+bx\n",
        "\n",
        "- 다중회귀(multiple regression) : 여러개의 특성을 사용한 회귀  \n",
        "특성이 많은 고차원에서는 선형 회귀가 매우 복잡한 모델을 표현할 수 있다.\n",
        "\n",
        "- 특성공학(feature engineering) : 기존의 특성을 사용해 새로운 특성을 뽑아내는 작업\n",
        "\n",
        "- 변환기(transformer) : 사이킷런은 특성을 만들거나 전처리하기 위한 다양한 클래스를 제공한다. 이러한 클래스를 변환기라고 한다.  \n",
        "사이킷런의 모델 클래스에 일관된 fit(), score(), predict()메서드가 있는 것 처럼  \n",
        "변환기 클래스는 모두 fit(), transform()메서드를 제공한다.\n",
        "  - PolynomialFeatures, 해당 클래스들이 변환기이고, 이들은 모두 공통적으로 fit, transform메서드를 가지고 있다.\n",
        "\n",
        "- 추정기(estimator) : 사이킷런의 모델 클래스\n",
        "  - KNeighborsClassifier, KNeighborsRegression, LinearRegression.. 해당 클래스들이 추정기이며, 이들은 공통적으로 fit, score, predict메서드를 가지고 있다.\n"
      ],
      "metadata": {
        "id": "87rFjp8L0ngD"
      }
    },
    {
      "cell_type": "markdown",
      "source": [
        "# 데이터 준비\n",
        "[input](https://bit.ly/perch_csv)  \n",
        "[target](http://bit.ly/perch_data)\n"
      ],
      "metadata": {
        "id": "ZbSDN1UG2M9k"
      }
    },
    {
      "cell_type": "code",
      "source": [
        "# numpy는 인터넷에서 데이터를 다운로드하여 사용할 수 있는 기능을 제공하지 않는다.\n",
        "# 이는 pandas를 이용한다.\n",
        "\n",
        "import pandas as pd\n",
        "df = pd.read_csv(\"https://bit.ly/perch_csv_data\") #웹에서도 데이터를 바로 받을 수 있다.\n",
        "perch_full = df.to_numpy() #df.to_numpy기능으로 데이터프레임의 데이터(행,열 제외)를 numpy로 가져올 수 있다.\n",
        "print(perch_full)"
      ],
      "metadata": {
        "colab": {
          "base_uri": "https://localhost:8080/"
        },
        "id": "shmOBvd-2RSC",
        "outputId": "9d490edb-6235-4aa8-e3fe-ef5ca3610087"
      },
      "execution_count": null,
      "outputs": [
        {
          "output_type": "stream",
          "name": "stdout",
          "text": [
            "[[ 8.4   2.11  1.41]\n",
            " [13.7   3.53  2.  ]\n",
            " [15.    3.82  2.43]\n",
            " [16.2   4.59  2.63]\n",
            " [17.4   4.59  2.94]\n",
            " [18.    5.22  3.32]\n",
            " [18.7   5.2   3.12]\n",
            " [19.    5.64  3.05]\n",
            " [19.6   5.14  3.04]\n",
            " [20.    5.08  2.77]\n",
            " [21.    5.69  3.56]\n",
            " [21.    5.92  3.31]\n",
            " [21.    5.69  3.67]\n",
            " [21.3   6.38  3.53]\n",
            " [22.    6.11  3.41]\n",
            " [22.    5.64  3.52]\n",
            " [22.    6.11  3.52]\n",
            " [22.    5.88  3.52]\n",
            " [22.    5.52  4.  ]\n",
            " [22.5   5.86  3.62]\n",
            " [22.5   6.79  3.62]\n",
            " [22.7   5.95  3.63]\n",
            " [23.    5.22  3.63]\n",
            " [23.5   6.28  3.72]\n",
            " [24.    7.29  3.72]\n",
            " [24.    6.38  3.82]\n",
            " [24.6   6.73  4.17]\n",
            " [25.    6.44  3.68]\n",
            " [25.6   6.56  4.24]\n",
            " [26.5   7.17  4.14]\n",
            " [27.3   8.32  5.14]\n",
            " [27.5   7.17  4.34]\n",
            " [27.5   7.05  4.34]\n",
            " [27.5   7.28  4.57]\n",
            " [28.    7.82  4.2 ]\n",
            " [28.7   7.59  4.64]\n",
            " [30.    7.62  4.77]\n",
            " [32.8  10.03  6.02]\n",
            " [34.5  10.26  6.39]\n",
            " [35.   11.49  7.8 ]\n",
            " [36.5  10.88  6.86]\n",
            " [36.   10.61  6.74]\n",
            " [37.   10.84  6.26]\n",
            " [37.   10.57  6.37]\n",
            " [39.   11.14  7.49]\n",
            " [39.   11.14  6.  ]\n",
            " [39.   12.43  7.35]\n",
            " [40.   11.93  7.11]\n",
            " [40.   11.73  7.22]\n",
            " [40.   12.38  7.46]\n",
            " [40.   11.14  6.63]\n",
            " [42.   12.8   6.87]\n",
            " [43.   11.93  7.28]\n",
            " [43.   12.51  7.42]\n",
            " [43.5  12.6   8.14]\n",
            " [44.   12.49  7.6 ]]\n"
          ]
        }
      ]
    },
    {
      "cell_type": "code",
      "source": [
        "# 타깃 데이터\n",
        "import numpy as np\n",
        "\n",
        "perch_weight = np.array([5.9, 32.0, 40.0, 51.5, 70.0, 100.0, 78.0, 80.0, 85.0, 85.0, 110.0,\n",
        "       115.0, 125.0, 130.0, 120.0, 120.0, 130.0, 135.0, 110.0, 130.0,\n",
        "       150.0, 145.0, 150.0, 170.0, 225.0, 145.0, 188.0, 180.0, 197.0,\n",
        "       218.0, 300.0, 260.0, 265.0, 250.0, 250.0, 300.0, 320.0, 514.0,\n",
        "       556.0, 840.0, 685.0, 700.0, 700.0, 690.0, 900.0, 650.0, 820.0,\n",
        "       850.0, 900.0, 1015.0, 820.0, 1100.0, 1000.0, 1100.0, 1000.0,\n",
        "       1000.0])"
      ],
      "metadata": {
        "id": "97nFsr8N3B0z"
      },
      "execution_count": null,
      "outputs": []
    },
    {
      "cell_type": "code",
      "source": [
        "# 훈련, 테스트 세트 분할 \n",
        "from sklearn.model_selection import train_test_split\n",
        "train_input, test_input, train_target, test_target = train_test_split(perch_full, perch_weight, random_state = 42)\n"
      ],
      "metadata": {
        "id": "vCU72CCT3ULM"
      },
      "execution_count": null,
      "outputs": []
    },
    {
      "cell_type": "markdown",
      "source": [
        "# 사이킷런의 변환기"
      ],
      "metadata": {
        "id": "FnBotD8E3uKL"
      }
    },
    {
      "cell_type": "code",
      "source": [
        "#sklearn패키지 아래 preprocessing 모듈아래 PolynomialFeatures 클래스(변환기)를 가져온다.\n",
        "from sklearn.preprocessing import PolynomialFeatures \n",
        "\n",
        "\n",
        "\n",
        "#객체 생성 \n",
        "poly = PolynomialFeatures()\n",
        "\n",
        "#두개의 특성 2와3으로 이루어진 샘플 하나를 적용\n",
        "#fit과 transform을 차례로 호출 \n",
        "poly.fit([[2,3]]) #추정기 처럼 input data는 반드시 2차원 배열형태로 제공 \n",
        "poly.transform([[2,3]])\n"
      ],
      "metadata": {
        "colab": {
          "base_uri": "https://localhost:8080/"
        },
        "id": "0RO22FjZ3xaE",
        "outputId": "65891556-2023-4b40-8231-a908670391bf"
      },
      "execution_count": null,
      "outputs": [
        {
          "output_type": "execute_result",
          "data": {
            "text/plain": [
              "array([[1., 2., 3., 4., 6., 9.]])"
            ]
          },
          "metadata": {},
          "execution_count": 4
        }
      ]
    },
    {
      "cell_type": "markdown",
      "source": [
        "- 훈련(fit)을 해야 변환(transform)이 가능하다.\n",
        "\n",
        "- 두 메서드를 하나로 붙인 fit_transform있다.\n",
        "- fit메서드는 새롭게 만들 특성 조합을 찾고(열1*열2... 이런식임 아직 만들지는 않음)\n",
        "\n",
        "- transform은 fit이 만들어 놓은 조합을 바탕으로 실제 데이터를 조합한다.\n",
        "\n",
        "- 당연하게도 변환기는 타깃데이터를 필요하지 않는다.  \n",
        "추정기의 fit은 input과 target을 둘다 필요한다 (지도학습)\n",
        "\n",
        "- PolynomialFeatures는 기본적으로 각 특성을 제곱한 항을 추가하고 서로 곱한 항을 추가한다.\n",
        "\n",
        "input에 1은 없는데 1이 추가된 이유는?\n",
        "\n",
        "<img src = \"https://drive.google.com/uc?id=1v0aqAuQV1qc_XqswTQJQicHssJ7x6Geu\">  \n",
        "- 선형 방정식은 절편을 항상 값이 1인 특성과 곱해지는 계수라고 볼 수 있다.\n",
        "\n",
        "- 이렇게 놓고 보면 특성은 (길이, 높이, 두께, 1)이 된다.  \n",
        "그렇기 때문에 input에 전체 행의 값이 1인 열이 추가 되어있다고 생각해서 1을 포함한 계산한다.\n",
        "\n",
        "- 하지만 사이킷런의 선형모델은 자동으로 절편을 추가한다(=특성이 1인 계수로 생각하지 않은다.)\n",
        "\n",
        "- 따라서 include_bias=False인자를 통해 1을 제외한 계산을 한다.\n",
        "\n",
        "- 물론 1이 포함된 특성으로 추정기에서 훈련을 해도 1을 자동적으로 제외한다."
      ],
      "metadata": {
        "id": "xxI-Ztgk5wx8"
      }
    },
    {
      "cell_type": "code",
      "source": [
        "poly = PolynomialFeatures(include_bias = False)\n",
        "poly.fit([[2,3]])\n",
        "poly.transform([[2,3]])"
      ],
      "metadata": {
        "colab": {
          "base_uri": "https://localhost:8080/"
        },
        "id": "OvYHFCiS99uW",
        "outputId": "c6d0d831-2231-46e2-9654-0f414d0e4cd1"
      },
      "execution_count": null,
      "outputs": [
        {
          "output_type": "execute_result",
          "data": {
            "text/plain": [
              "array([[2., 3., 4., 6., 9.]])"
            ]
          },
          "metadata": {},
          "execution_count": 5
        }
      ]
    },
    {
      "cell_type": "code",
      "source": [
        "# 이제 실제 perch_full로 특성공학을 해보자\n",
        "\n",
        "poly = PolynomialFeatures(include_bias = False)\n",
        "poly.fit(train_input)\n",
        "train_poly = poly.transform(train_input) #transform은 특성공학된 데이터를 반환한다.\n",
        "print(train_poly.shape)\n"
      ],
      "metadata": {
        "colab": {
          "base_uri": "https://localhost:8080/"
        },
        "id": "kNtm2jsS-OSP",
        "outputId": "ae456966-b2b7-4f11-9619-0df6f2e12e3b"
      },
      "execution_count": null,
      "outputs": [
        {
          "output_type": "stream",
          "name": "stdout",
          "text": [
            "(42, 9)\n"
          ]
        }
      ]
    },
    {
      "cell_type": "markdown",
      "source": [
        "PolynomialFeatures 클래스는 9개의 특성이 어떻게 만들어졌는지 확인하는 방법을 제공한다.  \n",
        "즉 fit 했을 때 어떤 조합으로 할지를 확인할 수 있다.\n"
      ],
      "metadata": {
        "id": "3nnIBfjM-zhH"
      }
    },
    {
      "cell_type": "code",
      "source": [
        "poly.get_feature_names_out()"
      ],
      "metadata": {
        "colab": {
          "base_uri": "https://localhost:8080/"
        },
        "id": "lBVb6H_f--9W",
        "outputId": "99a60ace-e88f-46e9-d51d-a0b91fbb73bd"
      },
      "execution_count": null,
      "outputs": [
        {
          "output_type": "execute_result",
          "data": {
            "text/plain": [
              "array(['x0', 'x1', 'x2', 'x0^2', 'x0 x1', 'x0 x2', 'x1^2', 'x1 x2',\n",
              "       'x2^2'], dtype=object)"
            ]
          },
          "metadata": {},
          "execution_count": 7
        }
      ]
    },
    {
      "cell_type": "code",
      "source": [
        "#위에는 훈련세트를 변환한것이고 당연 테스트 세트도 변환을 해야한다.\n",
        "test_poly = poly.transform(test_input)\n",
        "\n",
        "#여기서 test_input을 위한 fit을 다시 진행할 필요는 없다.\n",
        "#특성의 개수는 같고 fit은 그저 특성 조합 경우의 수만 준비하기 때문\n",
        "#따라서 test_input을 따로 fit을 해도 문제가 발생하지 않는다.\n",
        "\n",
        "#하지만 뒤에 전처리에서는 훈련세트를 기준으로 fit 한걸로 test세트 transform을 해야한다.\n",
        "#따라서 항상 훈련세트를 기준(fit)으로 테스트세트를 변환하는 습관을 들이는게 중요하다.\n",
        "\n"
      ],
      "metadata": {
        "id": "fwsf3ZYC_I7W"
      },
      "execution_count": null,
      "outputs": []
    },
    {
      "cell_type": "markdown",
      "source": [
        "# 다중 회귀 모델 훈련하기"
      ],
      "metadata": {
        "id": "RFmWjIn4h0Am"
      }
    },
    {
      "cell_type": "code",
      "source": [
        "from sklearn.linear_model import LinearRegression\n",
        "lr = LinearRegression()\n",
        "lr.fit(train_poly, train_target)\n",
        "print(lr.score(train_poly, train_target))"
      ],
      "metadata": {
        "colab": {
          "base_uri": "https://localhost:8080/"
        },
        "id": "00clVziBh3EA",
        "outputId": "906d38c9-edb2-4188-fa77-27d5afcef3fb"
      },
      "execution_count": null,
      "outputs": [
        {
          "output_type": "stream",
          "name": "stdout",
          "text": [
            "0.9903183436982124\n"
          ]
        }
      ]
    },
    {
      "cell_type": "code",
      "source": [
        "print(lr.score(test_poly, test_target))"
      ],
      "metadata": {
        "colab": {
          "base_uri": "https://localhost:8080/"
        },
        "id": "pyoxDvpMiI_A",
        "outputId": "6a8c6710-ef89-40cc-b964-8f3b05974f75"
      },
      "execution_count": null,
      "outputs": [
        {
          "output_type": "stream",
          "name": "stdout",
          "text": [
            "0.9714559911594134\n"
          ]
        }
      ]
    },
    {
      "cell_type": "markdown",
      "source": [
        "선형모델은 특성이 많아질수록 성능이 좋아진다.\n",
        "특성이 많아지면 더 복잡하게 표현가능하다. 즉 정확도를 높일 수 있다.\n",
        "이에따라 과대적합이 일어날 수 있지만 릿지나 라쏘를 통해 규제가 가능하다.\n",
        "특성이 부족한것보단 낫다."
      ],
      "metadata": {
        "id": "Qqjz3qvsiXed"
      }
    },
    {
      "cell_type": "code",
      "source": [
        "#특성을 더 많이 추가해보자.\n",
        "#PolynomialFeatures는 기본적으로 2제곱을 하지만 조절 할 수 있다.\n",
        "\n",
        "from sklearn.preprocessing import PolynomialFeatures\n",
        "poly = PolynomialFeatures(degree = 5, include_bias = False) # 5제곱\n",
        "poly.fit(train_input)\n",
        "train_poly = poly.transform(train_input)\n",
        "test_poly = poly.transform(test_input)\n",
        "print(train_poly.shape)"
      ],
      "metadata": {
        "colab": {
          "base_uri": "https://localhost:8080/"
        },
        "id": "bZGY6Ol0iwyD",
        "outputId": "5e83f260-16f6-4911-f1d6-c54c03a1f0a0"
      },
      "execution_count": null,
      "outputs": [
        {
          "output_type": "stream",
          "name": "stdout",
          "text": [
            "(42, 55)\n"
          ]
        }
      ]
    },
    {
      "cell_type": "code",
      "source": [
        "poly.get_feature_names_out() #5제곱이라는 것은 자기자신 또는 상대방을 중복허용해서 곱해서 5차수되는 모든 경우의수를 의미한다."
      ],
      "metadata": {
        "colab": {
          "base_uri": "https://localhost:8080/"
        },
        "id": "qGWZV4Imi5Rm",
        "outputId": "444cdb79-a4c3-4f86-b89e-a730acca1a32"
      },
      "execution_count": null,
      "outputs": [
        {
          "output_type": "execute_result",
          "data": {
            "text/plain": [
              "array(['x0', 'x1', 'x2', 'x0^2', 'x0 x1', 'x0 x2', 'x1^2', 'x1 x2',\n",
              "       'x2^2', 'x0^3', 'x0^2 x1', 'x0^2 x2', 'x0 x1^2', 'x0 x1 x2',\n",
              "       'x0 x2^2', 'x1^3', 'x1^2 x2', 'x1 x2^2', 'x2^3', 'x0^4', 'x0^3 x1',\n",
              "       'x0^3 x2', 'x0^2 x1^2', 'x0^2 x1 x2', 'x0^2 x2^2', 'x0 x1^3',\n",
              "       'x0 x1^2 x2', 'x0 x1 x2^2', 'x0 x2^3', 'x1^4', 'x1^3 x2',\n",
              "       'x1^2 x2^2', 'x1 x2^3', 'x2^4', 'x0^5', 'x0^4 x1', 'x0^4 x2',\n",
              "       'x0^3 x1^2', 'x0^3 x1 x2', 'x0^3 x2^2', 'x0^2 x1^3',\n",
              "       'x0^2 x1^2 x2', 'x0^2 x1 x2^2', 'x0^2 x2^3', 'x0 x1^4',\n",
              "       'x0 x1^3 x2', 'x0 x1^2 x2^2', 'x0 x1 x2^3', 'x0 x2^4', 'x1^5',\n",
              "       'x1^4 x2', 'x1^3 x2^2', 'x1^2 x2^3', 'x1 x2^4', 'x2^5'],\n",
              "      dtype=object)"
            ]
          },
          "metadata": {},
          "execution_count": 18
        }
      ]
    },
    {
      "cell_type": "code",
      "source": [
        "lr.fit(train_poly, train_target)\n",
        "print(lr.score(train_poly, train_target))"
      ],
      "metadata": {
        "colab": {
          "base_uri": "https://localhost:8080/"
        },
        "id": "RrBxBddGjhXA",
        "outputId": "a00c528d-a4d9-47ab-e345-8f3a1c87c430"
      },
      "execution_count": null,
      "outputs": [
        {
          "output_type": "stream",
          "name": "stdout",
          "text": [
            "0.9999999999991097\n"
          ]
        }
      ]
    },
    {
      "cell_type": "code",
      "source": [
        "print(lr.score(test_poly, test_target))"
      ],
      "metadata": {
        "colab": {
          "base_uri": "https://localhost:8080/"
        },
        "id": "_kmfED4QkMPP",
        "outputId": "e793bfbc-afcd-41cd-cedf-095c65917128"
      },
      "execution_count": null,
      "outputs": [
        {
          "output_type": "stream",
          "name": "stdout",
          "text": [
            "-144.40579242684848\n"
          ]
        }
      ]
    },
    {
      "cell_type": "markdown",
      "source": [
        "- 특성의 개수를 크게 늘리면 선형모델은 아주 강력해진다.  \n",
        "훈련세트에 대해 거의 완벽하게 학습을 할 수 있으나 너무 과대적합되어 테스트세트에는 형편없는 점수를 나타낸다.\n",
        "\n",
        "- 샘플의 개수(식의 수)보다 특성의수(미지수)가 많아지게되면 무수히 많은 해를 가질 수 있기 때문에 당연히 훈련세트에 대해서는 정확도가 1에 가깝다."
      ],
      "metadata": {
        "id": "oiXQAbmukPRJ"
      }
    },
    {
      "cell_type": "markdown",
      "source": [
        "# 규제(regularization)\n",
        "- 모델이 훈련세트에 대해 과대적합되지 않도록 만드는 것 \n",
        "- 선형회귀 모델의 경우 특성에 곱해지는 계수를 작게 만드는 일 \n",
        "\n",
        "특성의 스케일   \n",
        "- 거리기반 알고리즘인 knn에서는 특성의 스케일이 중요하다.\n",
        "\n",
        "- 선형회귀는 거리기반 알고리즘은 아니지만  \n",
        "스케일이 정규화되지 않으면 여기에 곱해지는 계수값도 차이 나게된다.  \n",
        "- 일반적으로 선형회귀모델에 규제를 적용할 때 계수 값의 크기가 서로 많이 다르면 공정하게 제어되지 않는다.\n",
        "- 따라서 릿지,라쏘(규제모델)을 사용하기 앞서 input의 정규화가 필수다.\n",
        "\n",
        "- 직접 훈련세트의 각 열마다 평균과 표준편차를 구해서 브로드캐스팅 기능을 이용해서 z점수로 변환할 수 있지만  \n",
        "- sklearn이 제공하는 StandardScaler클래스를 사용하면 편하다."
      ],
      "metadata": {
        "id": "a5dxbAPMksdO"
      }
    },
    {
      "cell_type": "code",
      "source": [
        "from sklearn.preprocessing import StandardScaler\n",
        "ss = StandardScaler()\n",
        "ss.fit(train_poly) #훈련input으로 학습(=기준을 만든다음)\n",
        "train_scaled = ss.transform(train_poly) #훈련 input 정규화\n",
        "test_scaled = ss.transform(test_poly) #테스트 input 정규화, 특성의 수를 늘릴 때는 fit 기준이 상관없지만 정규화는 반드시 '훈련세트'로 진행한다.\n",
        "\n",
        "print(ss.mean_)\n",
        "print('\\n')\n",
        "print(ss.scale_)"
      ],
      "metadata": {
        "colab": {
          "base_uri": "https://localhost:8080/"
        },
        "id": "9vGJsNfrl8cu",
        "outputId": "485fd658-d940-45f0-cc24-1476184917de"
      },
      "execution_count": null,
      "outputs": [
        {
          "output_type": "stream",
          "name": "stdout",
          "text": [
            "[2.84452381e+01 8.04238095e+00 4.82047619e+00 8.85315000e+02\n",
            " 2.53486881e+02 1.51959000e+02 7.29365000e+01 4.36999452e+01\n",
            " 2.62868381e+01 2.97326070e+04 8.59817581e+03 5.15200651e+03\n",
            " 2.49680043e+03 1.49567194e+03 8.99184494e+02 7.27945149e+02\n",
            " 4.36019840e+02 2.62115117e+02 1.58141990e+02 1.05917983e+06\n",
            " 3.08429517e+05 1.84644673e+05 9.01239554e+04 5.39478286e+04\n",
            " 3.23998082e+04 2.64224658e+04 1.58167367e+04 9.49991053e+03\n",
            " 5.72489005e+03 7.77162422e+03 4.65285399e+03 2.79521756e+03\n",
            " 1.68494739e+03 1.01911272e+03 3.93876111e+07 1.15192532e+07\n",
            " 6.88842737e+06 3.37865413e+06 2.02034307e+06 1.21184517e+06\n",
            " 9.93774754e+05 5.94291271e+05 3.56516573e+05 2.14541208e+05\n",
            " 2.93110780e+05 1.75313851e+05 1.05196649e+05 6.33244641e+04\n",
            " 3.82394901e+04 8.66870097e+04 5.18625239e+04 3.11308026e+04\n",
            " 1.87477065e+04 1.13270112e+04 6.86569419e+03]\n",
            "\n",
            "\n",
            "[8.72831196e+00 2.87343151e+00 1.74638123e+00 5.24782988e+02\n",
            " 1.60836428e+02 9.64793789e+01 4.95165749e+01 2.97578956e+01\n",
            " 1.81139412e+01 2.50155373e+04 7.49275582e+03 4.47153009e+03\n",
            " 2.25433695e+03 1.34683566e+03 8.11988865e+02 6.81265335e+02\n",
            " 4.07639942e+02 2.46263218e+02 1.50164227e+02 1.10854579e+06\n",
            " 3.28247889e+05 1.95342267e+05 9.76153931e+04 5.81064317e+04\n",
            " 3.48472685e+04 2.91591483e+04 1.73674986e+04 1.04273041e+04\n",
            " 6.30922253e+03 8.75059964e+03 5.21694989e+03 3.13701782e+03\n",
            " 1.90225250e+03 1.16311955e+03 4.77814865e+07 1.40483165e+07\n",
            " 8.34702250e+06 4.14736151e+06 2.46313653e+06 1.47240427e+06\n",
            " 1.22970655e+06 7.30196641e+05 4.36628701e+05 2.62841007e+05\n",
            " 3.66270535e+05 2.17518714e+05 1.30152823e+05 7.84482709e+04\n",
            " 4.76246733e+04 1.09609367e+05 6.51258832e+04 3.90090183e+04\n",
            " 2.35520992e+04 1.43325296e+04 8.79122582e+03]\n"
          ]
        }
      ]
    },
    {
      "cell_type": "markdown",
      "source": [
        "# 릿지 회귀 (RidgeRegression)\n",
        "\n",
        "- LinearRegression에 규제를 추가한 모델을 릿지와 라쏘라고 부른다.\n",
        "\n",
        "두 모델은 규제를 가하는 방법이 다르다.  \n",
        "- 릿지는 계수를 제곱한 값을 기준으로 규제를 적용하고\n",
        "- 라쏘는 계수의 절댓값을 기준으로 규제를 적용한다.\n",
        "\n",
        "- 일반적으로 릿지를 조금 더 선호한다.\n",
        "\n",
        "- 두 알고리즘 모두 계수의 크기를 줄이지만 라쏘는 아예 0으로 만들 수도 있다.\n"
      ],
      "metadata": {
        "id": "swuQmeNEm9G5"
      }
    },
    {
      "cell_type": "code",
      "source": [
        "from sklearn.linear_model import Ridge\n",
        "ridge = Ridge().fit(train_scaled, train_target)\n",
        "print(ridge.score(train_scaled, train_target))"
      ],
      "metadata": {
        "colab": {
          "base_uri": "https://localhost:8080/"
        },
        "id": "Uj99y9-p9FPT",
        "outputId": "d8e1de1f-d923-4f9b-d6d8-7811098326ba"
      },
      "execution_count": null,
      "outputs": [
        {
          "output_type": "stream",
          "name": "stdout",
          "text": [
            "0.9896101671037343\n"
          ]
        }
      ]
    },
    {
      "cell_type": "code",
      "source": [
        "print(ridge.score(test_scaled, test_target))"
      ],
      "metadata": {
        "colab": {
          "base_uri": "https://localhost:8080/"
        },
        "id": "qcuV3Tgw-pWo",
        "outputId": "39cf2644-204b-49b9-fab7-5294a17640aa"
      },
      "execution_count": null,
      "outputs": [
        {
          "output_type": "stream",
          "name": "stdout",
          "text": [
            "0.9790693977615391\n"
          ]
        }
      ]
    },
    {
      "cell_type": "code",
      "source": [
        "#ridge모델로 과대적합이 해소되었음을 알 수 있다.\n",
        "#규제의 양은 alpha로 조정한다. alpha값이 커지면 규제가 커져 계수값은 작아진다\n",
        "#과소적합이 되도록 유도한다.\n"
      ],
      "metadata": {
        "id": "qQxtXSsM-sWZ"
      },
      "execution_count": null,
      "outputs": []
    },
    {
      "cell_type": "markdown",
      "source": [
        "- alpha값은 릿지 모델이 학습하는 것이 아니라 사전에 우리가 지정해야되는 것\n",
        "- 머신러닝 모델이 학습할 수 없고 사람이 알려줘야 하는 파라미터를 **하이퍼 파라미터(매개변수)**라고 부른다.\n",
        "- 이 책에서 모델이 학습한 파라미터는 (ex. 계수, 절편) 모델 파라미터라고 한다."
      ],
      "metadata": {
        "id": "HwpoqJXH--Al"
      }
    },
    {
      "cell_type": "code",
      "source": [
        "#적절한 alpha값을 찾는 방법은 alpha값에 대한 결정계수 값의 그래프를 그리는 것\n",
        "#훈련세트와 테스트 세트의 점수가 가장 가까운 지점이 최적의 alpha\n",
        "\n",
        "import matplotlib.pyplot as plt\n",
        "train_score = []\n",
        "test_score = []\n",
        "\n",
        "alpha_list = [0.001, 0.01, 0.1,1,10,100]\n",
        "for alpha in alpha_list:\n",
        "  ridge = Ridge(alpha)\n",
        "  ridge.fit(train_scaled, train_target)\n",
        "  train_score.append(ridge.score(train_scaled, train_target))\n",
        "  test_score.append(ridge.score(test_scaled, test_target))"
      ],
      "metadata": {
        "id": "MPbnFBY6_aF_"
      },
      "execution_count": null,
      "outputs": []
    },
    {
      "cell_type": "code",
      "source": [
        "#y값은 최대값이 1인데 x값은 최대값이 100이니 그래프 scale이 달라 시각화에 좋지 않음\n",
        "#x에 상용로그를 취하자.\n",
        "\n",
        "plt.plot(np.log10(alpha_list), train_score, label = 'train')\n",
        "plt.plot(np.log10(alpha_list), test_score, label = 'test')\n",
        "plt.xlabel('alpha')\n",
        "plt.ylabel('R^2')\n",
        "plt.legend(loc = 'best')\n",
        "plt.show()"
      ],
      "metadata": {
        "colab": {
          "base_uri": "https://localhost:8080/",
          "height": 279
        },
        "id": "Ifs60xAUACVy",
        "outputId": "b0bcd12d-3fab-438a-a72d-7e2c2b718de0"
      },
      "execution_count": null,
      "outputs": [
        {
          "output_type": "display_data",
          "data": {
            "text/plain": [
              "<Figure size 432x288 with 1 Axes>"
            ],
            "image/png": "[encoded data removed]"
          },
          "metadata": {
            "needs_background": "light"
          }
        }
      ]
    },
    {
      "cell_type": "code",
      "source": [
        "#로그값을 고려하면 -1는 alpha 0.1일때\n",
        "from sklearn.linear_model import Ridge\n",
        "ridge = Ridge(alpha = 0.1).fit(train_scaled, train_target)\n",
        "print(ridge.score(train_scaled, train_target))\n",
        "print(ridge.score(test_scaled, test_target))"
      ],
      "metadata": {
        "colab": {
          "base_uri": "https://localhost:8080/"
        },
        "id": "uVAXncC3Awps",
        "outputId": "800ee719-100a-46ad-c178-2b31313fe469"
      },
      "execution_count": null,
      "outputs": [
        {
          "output_type": "stream",
          "name": "stdout",
          "text": [
            "0.9903815817570365\n",
            "0.9827976465386884\n"
          ]
        }
      ]
    },
    {
      "cell_type": "markdown",
      "source": [
        "# 라쏘(Lasso)\n",
        "- 훈련방법은 Ridge와 동일 "
      ],
      "metadata": {
        "id": "6Ez7Rk4TBy3X"
      }
    },
    {
      "cell_type": "code",
      "source": [
        "#최적의 alpha값을 찾아보자.\n",
        "from sklearn.linear_model import Lasso\n",
        "\n",
        "train_score = []\n",
        "test_score = []\n",
        "\n",
        "alpha_list = [0.001 * 10 ** n for n in range(6)]\n",
        "\n",
        "#ConvergenceWarning 최적의 계수를 찾기 위해 반복적인 계산을 수행하는데, 지정한 반복 횟수가 부족할 때 이런 경고가 뜬다.\n",
        "#max_iter로 지정할 수 있다. \n",
        "for alpha in alpha_list:\n",
        "  lasso = Lasso(alpha = alpha, max_iter = 10000).fit(train_scaled, train_target)\n",
        "  train_score.append(lasso.score(train_scaled, train_target))\n",
        "  test_score.append(lasso.score(test_scaled, test_target))\n",
        "\n",
        "plt.plot(np.log10(alpha_list), train_score, label = 'train')\n",
        "plt.plot(np.log10(alpha_list), test_score, label = 'test')\n",
        "plt.xlabel('alpha')\n",
        "plt.ylabel('R^2')\n",
        "plt.legend(loc = 'best')\n",
        "plt.show()\n",
        "\n"
      ],
      "metadata": {
        "colab": {
          "base_uri": "https://localhost:8080/",
          "height": 374
        },
        "id": "xP12dPI3B3IG",
        "outputId": "024b4d41-94e1-452a-e311-28a57e419794"
      },
      "execution_count": null,
      "outputs": [
        {
          "output_type": "stream",
          "name": "stderr",
          "text": [
            "/usr/local/lib/python3.7/dist-packages/sklearn/linear_model/_coordinate_descent.py:648: ConvergenceWarning: Objective did not converge. You might want to increase the number of iterations, check the scale of the features or consider increasing regularisation. Duality gap: 1.878e+04, tolerance: 5.183e+02\n",
            "  coef_, l1_reg, l2_reg, X, y, max_iter, tol, rng, random, positive\n",
            "/usr/local/lib/python3.7/dist-packages/sklearn/linear_model/_coordinate_descent.py:648: ConvergenceWarning: Objective did not converge. You might want to increase the number of iterations, check the scale of the features or consider increasing regularisation. Duality gap: 1.297e+04, tolerance: 5.183e+02\n",
            "  coef_, l1_reg, l2_reg, X, y, max_iter, tol, rng, random, positive\n"
          ]
        },
        {
          "output_type": "display_data",
          "data": {
            "text/plain": [
              "<Figure size 432x288 with 1 Axes>"
            ],
            "image/png": "[encoded data removed]"
          },
          "metadata": {
            "needs_background": "light"
          }
        }
      ]
    },
    {
      "cell_type": "code",
      "source": [
        "lasso = Lasso(alpha = 0.1).fit(train_scaled, train_target)\n",
        "print(lasso.score(train_scaled, train_target))\n",
        "print(lasso.score(test_scaled, test_target))"
      ],
      "metadata": {
        "colab": {
          "base_uri": "https://localhost:8080/"
        },
        "id": "O4kPbIMXDFL2",
        "outputId": "abd0eb39-99cd-421a-f674-6b42d94f94f9"
      },
      "execution_count": null,
      "outputs": [
        {
          "output_type": "stream",
          "name": "stdout",
          "text": [
            "0.990137631128448\n",
            "0.9819405116249363\n"
          ]
        },
        {
          "output_type": "stream",
          "name": "stderr",
          "text": [
            "/usr/local/lib/python3.7/dist-packages/sklearn/linear_model/_coordinate_descent.py:648: ConvergenceWarning: Objective did not converge. You might want to increase the number of iterations, check the scale of the features or consider increasing regularisation. Duality gap: 8.062e+02, tolerance: 5.183e+02\n",
            "  coef_, l1_reg, l2_reg, X, y, max_iter, tol, rng, random, positive\n"
          ]
        }
      ]
    },
    {
      "cell_type": "code",
      "source": [
        "#lasso는 계수를 0으로 만들 수 있다.\n",
        "print(lasso.coef_)"
      ],
      "metadata": {
        "colab": {
          "base_uri": "https://localhost:8080/"
        },
        "id": "dRXa3U60F7KA",
        "outputId": "4c23f694-0a5b-4e08-ca75-b4506a713b72"
      },
      "execution_count": null,
      "outputs": [
        {
          "output_type": "stream",
          "name": "stdout",
          "text": [
            "[  0.           0.          -0.          88.01171509  10.83995395\n",
            "   0.           8.76163845   0.          17.60158102  36.90358346\n",
            "  20.76647438   0.          15.47388351   0.           0.\n",
            "   5.32869238   0.           0.          60.0394628    0.\n",
            "   0.          -0.           0.          -0.          -0.\n",
            "  11.36615139   0.          -0.           0.           2.33791322\n",
            "   0.          -0.           0.          48.74630302  -0.\n",
            "   0.          -0.           0.          -0.         -29.17112552\n",
            "  40.96967668  -0.          -9.93382809 -23.43259464  50.14443615\n",
            "  -0.          -5.96575623 -13.94013436  -0.          20.2657082\n",
            "  -0.          -0.          -0.          -0.           0.        ]\n"
          ]
        }
      ]
    },
    {
      "cell_type": "code",
      "source": [
        "#0인 계수의 개수\n",
        "print(lasso.coef_ == 0)\n",
        "print(np.sum(lasso.coef_ == 0)) #0이 아니면 false이고 0, 0이면 True이고 1"
      ],
      "metadata": {
        "colab": {
          "base_uri": "https://localhost:8080/"
        },
        "id": "hVHHSFrRGJbD",
        "outputId": "27f1ab41-21ab-4ec9-8a96-e9684164a974"
      },
      "execution_count": null,
      "outputs": [
        {
          "output_type": "stream",
          "name": "stdout",
          "text": [
            "[ True  True  True False False  True False  True False False False  True\n",
            " False  True  True False  True  True False  True  True  True  True  True\n",
            "  True False  True  True  True False  True  True  True False  True  True\n",
            "  True  True  True False False  True False False False  True False False\n",
            "  True False  True  True  True  True  True]\n",
            "35\n"
          ]
        }
      ]
    },
    {
      "cell_type": "code",
      "source": [
        "#lasso는 유용한 특성을 골라내는데 도움이 될 수 있다."
      ],
      "metadata": {
        "id": "tzbceJYJGaV4"
      },
      "execution_count": null,
      "outputs": []
    },
    {
      "cell_type": "markdown",
      "source": [
        "#read_csv\n",
        "- 다양한 매개변수가 있으니 필요할때 검색해보자.\n",
        "- sep = ',' : csv파일 구분자\n",
        "- header = None, 디폴트는 첫 행을 열의 이름으로 사용한다\n",
        "- skiprows = 5 : 5번째 행까지 무시하고 6번째 행부터 읽어온다.\n",
        "- nrows = 5 : 5번째 행까지만 읽어오기\n"
      ],
      "metadata": {
        "id": "pT3_X62-LVmI"
      }
    },
    {
      "cell_type": "markdown",
      "source": [
        "# PolynomialFeatures\n",
        "- interaction_only = True이면 거듭제곱항은 제외되고 특성간의 곱셈 항만 추가된다."
      ],
      "metadata": {
        "id": "Wot5zJjTMHHF"
      }
    },
    {
      "cell_type": "markdown",
      "source": [
        "# Ridge\n",
        "- alpha 기본값 1 \n",
        "- solver = 'auto' (기본값)  \n",
        "매개변수에 최적의 모델을 찾기 위한 방법을 지정할 수 있다.\n",
        "   - auto\n",
        "   - sag : 확률적 평균 경사하강법 알고리즘, 특성과 샘플 수가 많을 때 좋다.\n",
        "   - saga : sag의 개선버전\n",
        "- random_state는 solver가 sag, saga일 때 넘파이 난수 시드값을 지정할 수 있다?.\n"
      ],
      "metadata": {
        "id": "OWEitf_LMn_K"
      }
    },
    {
      "cell_type": "markdown",
      "source": [
        "# Lasso\n",
        "- 최적의 모델을 찾기 위해 좌표축을 따라 최적화를 수행하가는 좌표하강법을 사용한다.\n",
        "\n",
        "- alpha와 random_state 매개변수는 ridge와 동일하다\n",
        "- max_iter은 알고리즘의 수행 반복횟수를 지정한다. 디폴트는 1000\n"
      ],
      "metadata": {
        "id": "LcPAJIgsNNJX"
      }
    }
  ]
}