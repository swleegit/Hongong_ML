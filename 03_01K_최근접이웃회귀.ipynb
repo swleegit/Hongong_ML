{
  "nbformat": 4,
  "nbformat_minor": 0,
  "metadata": {
    "colab": {
      "provenance": [],
      "collapsed_sections": [],
      "toc_visible": true,
      "mount_file_id": "1Q5VxAdrKlLKzYlgrn65kOjNLmeHWrt-s",
      "authorship_tag": "ABX9TyOxYZjt3AMMqK7ZVQR/oExE",
      "include_colab_link": true
    },
    "kernelspec": {
      "name": "python3",
      "display_name": "Python 3"
    },
    "language_info": {
      "name": "python"
    }
  },
  "cells": [
    {
      "cell_type": "markdown",
      "metadata": {
        "id": "view-in-github",
        "colab_type": "text"
      },
      "source": [
        "<a href=\"https://colab.research.google.com/github/swleegit/Hongong_ML/blob/main/03_01K_%EC%B5%9C%EA%B7%BC%EC%A0%91%EC%9D%B4%EC%9B%83%ED%9A%8C%EA%B7%80.ipynb\" target=\"_parent\"><img src=\"https://colab.research.google.com/assets/colab-badge.svg\" alt=\"Open In Colab\"/></a>"
      ]
    },
    {
      "cell_type": "markdown",
      "source": [
        "# K-최근접 이웃 회귀\n",
        "- 지도학습 알고리즘은 크게 분류와 회귀로 나뉜다.\n",
        "  - classification(분류) : 샘플을 몇개의 클래스 중 하나로 분류하는 것\n",
        "  - regression(회귀) : 임의의 숫자로 예측하는 것\n",
        "\n",
        "- 샘플에 가까운 k개의 데이터를 선택한 다음 각 수치의 평균으로 타깃값을 정한다.\n",
        "\n",
        "- KNeighborsRegressor의 매개변수와 KNeighborsClassifier매개변수는 거의 동일하다.\n",
        "\n",
        "- n_neighbors = ~ 로 조정 가능하다.\n",
        "\n",
        "\n"
      ],
      "metadata": {
        "id": "4C2KhKN007X7"
      }
    },
    {
      "cell_type": "markdown",
      "source": [
        "[데이터](http://bit.ly/perch_data)\n"
      ],
      "metadata": {
        "id": "NUZX5i9y8ifY"
      }
    },
    {
      "cell_type": "code",
      "source": [
        "import numpy as np\n",
        "\n",
        "perch_length = np.array([8.4, 13.7, 15.0, 16.2, 17.4, 18.0, 18.7, 19.0, 19.6, 20.0, 21.0,\n",
        "       21.0, 21.0, 21.3, 22.0, 22.0, 22.0, 22.0, 22.0, 22.5, 22.5, 22.7,\n",
        "       23.0, 23.5, 24.0, 24.0, 24.6, 25.0, 25.6, 26.5, 27.3, 27.5, 27.5,\n",
        "       27.5, 28.0, 28.7, 30.0, 32.8, 34.5, 35.0, 36.5, 36.0, 37.0, 37.0,\n",
        "       39.0, 39.0, 39.0, 40.0, 40.0, 40.0, 40.0, 42.0, 43.0, 43.0, 43.5,\n",
        "       44.0])\n",
        "perch_weight = np.array([5.9, 32.0, 40.0, 51.5, 70.0, 100.0, 78.0, 80.0, 85.0, 85.0, 110.0,\n",
        "       115.0, 125.0, 130.0, 120.0, 120.0, 130.0, 135.0, 110.0, 130.0,\n",
        "       150.0, 145.0, 150.0, 170.0, 225.0, 145.0, 188.0, 180.0, 197.0,\n",
        "       218.0, 300.0, 260.0, 265.0, 250.0, 250.0, 300.0, 320.0, 514.0,\n",
        "       556.0, 840.0, 685.0, 700.0, 700.0, 690.0, 900.0, 650.0, 820.0,\n",
        "       850.0, 900.0, 1015.0, 820.0, 1100.0, 1000.0, 1100.0, 1000.0,\n",
        "       1000.0])"
      ],
      "metadata": {
        "id": "Q2Am1mC1805p"
      },
      "execution_count": null,
      "outputs": []
    },
    {
      "cell_type": "code",
      "source": [
        "#특성1개니까 x에는 특성 y에는 타깃값을 배치한다.\n",
        "import matplotlib.pyplot as plt\n",
        "plt.scatter(perch_length, perch_weight)\n",
        "plt.xlabel(\"length\")\n",
        "plt.ylabel(\"weight\")\n",
        "plt.show()"
      ],
      "metadata": {
        "colab": {
          "base_uri": "https://localhost:8080/",
          "height": 279
        },
        "id": "hhaQWAEL84bx",
        "outputId": "6f1b25d4-8744-426b-a488-d771720e2a80"
      },
      "execution_count": null,
      "outputs": [
        {
          "output_type": "display_data",
          "data": {
            "text/plain": [
              "<Figure size 432x288 with 1 Axes>"
            ],
            "image/png": "[encoded data removed]"
          },
          "metadata": {
            "needs_background": "light"
          }
        }
      ]
    },
    {
      "cell_type": "code",
      "source": [
        "#훈련을 위해 훈련세트와 테스트 세트로 나눈다. \n",
        "from sklearn.model_selection import train_test_split\n",
        "train_input, test_input, train_target, test_target = \\\n",
        "train_test_split(perch_length, perch_weight, random_state = 42)\n",
        "\n",
        "#perch_length의 shape은 1행1열로 2차원 배열이 아님. 따라서 train_input, test_input도 1차원 배열 \n",
        "#train_test_split은 원본 데이터의 차원을 따른다.\n",
        "#문제는 fit, score, predict할때 x값(=input)데이터는 2차원 배열이어야한다.\n",
        "#따라서 강제로 2차원 배열로 만들어야한다.\n",
        "\n",
        "train_input = train_input.reshape(-1,1)\n",
        "test_input = test_input.reshape(-1,1)\n",
        "print(train_input.shape, test_input.shape)"
      ],
      "metadata": {
        "colab": {
          "base_uri": "https://localhost:8080/"
        },
        "id": "IwU0abaz9Tit",
        "outputId": "865402da-a15b-40e4-8a9e-d02668bc782a"
      },
      "execution_count": null,
      "outputs": [
        {
          "output_type": "stream",
          "name": "stdout",
          "text": [
            "(42, 1) (14, 1)\n"
          ]
        }
      ]
    },
    {
      "cell_type": "code",
      "source": [
        "array1 = np.arange(42).reshape(2,21)\n",
        "array2 = np.reshape(array1, (21,2))"
      ],
      "metadata": {
        "id": "TyiE34okqBAi"
      },
      "execution_count": null,
      "outputs": []
    },
    {
      "cell_type": "markdown",
      "source": [
        "# 결정계수\n",
        "- k최근접이웃 분류 알고리즘 : KNeighborsClassifier\n",
        "- k최근접이웃 회귀 알고리즘 : KNeighborsRegressor\n",
        "\n",
        "점수의미  \n",
        "- 분류의 경우 테스트 샘플을 정확하게 분류한 개수의 비율(=정확도)\n",
        "\n",
        "- 예측값이 임의의 수치이기 때문에 정확한 값을 맞춘다는 것은 불가능하다. 다른 방식으로 점수를 산출한다.  \n",
        "회귀의 경우 결정계수(𝖱^2)(coefficient of determination)  \n",
        "\n",
        "\n",
        "<img src = \"https://drive.google.com/uc?id=1_8wRBOHcr-cY0RYaoaSyQ_b4xf6IpW_P\" object-fit>  \n",
        "\n",
        "- 타깃과 예측한 값의 차이의 제곱의 합을 타깃과 타깃의 평균의 제곱의 합으로 나눈것으로 1에서 뺀다.\n",
        "\n",
        "- 0에 가까울수록 예측값이 타깃값들의 평균 수준으로 예측한는 것이다.\n",
        "\n",
        "- 예측이 타깃에 가까울수록 1에 가까워진다."
      ],
      "metadata": {
        "id": "iqhoVKIlE1sb"
      }
    },
    {
      "cell_type": "code",
      "source": [
        "from sklearn.neighbors import KNeighborsRegressor\n",
        "\n",
        "knr = KNeighborsRegressor()\n",
        "\n",
        "knr.fit(train_input, train_target)\n",
        "knr.score(test_input, test_target)\n",
        "\n"
      ],
      "metadata": {
        "colab": {
          "base_uri": "https://localhost:8080/"
        },
        "id": "zpdWYl-jFVu6",
        "outputId": "31d5c70c-2189-42f6-a893-658e742f22ca"
      },
      "execution_count": null,
      "outputs": [
        {
          "output_type": "execute_result",
          "data": {
            "text/plain": [
              "0.992809406101064"
            ]
          },
          "metadata": {},
          "execution_count": 10
        }
      ]
    },
    {
      "cell_type": "markdown",
      "source": [
        "- 결정계수의 단점은 수치에 대한 직관적 파악이 힘듬.\n",
        "- sklearn.metrics 패키지 아래 mean_absolute_error은 타깃과 예측의 절댓값 오차를 평균하여 반환한다.\n",
        "- 이와 비슷한 함수로는 mean_squared_error()이 있다.\n",
        "\n",
        "\n"
      ],
      "metadata": {
        "id": "sdyPQKe0JMlb"
      }
    },
    {
      "cell_type": "code",
      "source": [
        "from sklearn.metrics import mean_absolute_error\n",
        "\n",
        "test_prediction = knr.predict(test_input)\n",
        "mae = mean_absolute_error(test_target, test_prediction)\n",
        "print(mae)\n",
        "\n",
        "#KNeighborsClassifier에서는 predict와 target을 출력해서 전체 중 맞은 개수의 비율로 직관적 파악 가능함.\n",
        "#KNeighborsRegressor에서는 결정계수로 직관적 파악이 불가능하다. sklearn.metrics.mean_absolute_error로 \n",
        "#타깃과 예측값의 절댓값 차이의 평균으로 직관적 파악이 가능하다."
      ],
      "metadata": {
        "colab": {
          "base_uri": "https://localhost:8080/"
        },
        "id": "D2SEoGYDJjNX",
        "outputId": "1516cd26-1176-4ba8-e22f-fed5c3850c8a"
      },
      "execution_count": null,
      "outputs": [
        {
          "output_type": "stream",
          "name": "stdout",
          "text": [
            "19.157142857142862\n"
          ]
        }
      ]
    },
    {
      "cell_type": "markdown",
      "source": [
        "# 과대적합, 과소적합\n",
        "- 과대적합(overfitting) : 훈련세트에서 점수가 굉장히 좋았는데 테스트 세트에서는 점수가 굉장히 나쁜 모델 \n",
        "\n",
        "- 과소적합(underfitting) : 테스트 세트의 점수가 높거나 두 점수가 모두 낮은 경우\n",
        "\n",
        "\n",
        "- 훈련세트와 테스트세트의 크기가 매우 작으면 과소적합이 일어날 가능성이 크다. \n",
        "\n",
        "- 모델의 복잡성을 증가시킨다 = 훈련세트에 더 잘맞게 만들면 된다.\n",
        "=K-최근접이웃에서는 이웃의 개수를 줄이는 것, 이웃의 개수를 줄이면 국지적인 패턴에 민감해진다."
      ],
      "metadata": {
        "id": "XKyybbpwl5bA"
      }
    },
    {
      "cell_type": "code",
      "source": [
        "#이웃수  = 5\n",
        "print(\"test 점수 : {0:.2f}\".format(knr.score(test_input,test_target)))\n",
        "print(\"train점수 : {0:.2f}\".format(knr.score(train_input, train_target)))"
      ],
      "metadata": {
        "id": "KPGN_9TVnOfZ"
      },
      "execution_count": null,
      "outputs": []
    },
    {
      "cell_type": "markdown",
      "source": [
        "- 이웃 = 5 일때, test> train이므로 과소적합. 모델의 복잡성을 높여야한다. 이웃수를 3으로 줄이자."
      ],
      "metadata": {
        "id": "IGHBfqfzn9tu"
      }
    },
    {
      "cell_type": "code",
      "source": [
        "#이웃수 = 3\n",
        "knr.n_neighbors = 3\n",
        "print(\"test 점수 : {0:.2f}\".format(knr.score(test_input,test_target)))\n",
        "print(\"train점수 : {0:.2f}\".format(knr.score(train_input, train_target)))"
      ],
      "metadata": {
        "colab": {
          "base_uri": "https://localhost:8080/"
        },
        "id": "VJ5lWl3unYua",
        "outputId": "9917b7c1-cadb-4d30-8878-cb1d23a09889"
      },
      "execution_count": null,
      "outputs": [
        {
          "output_type": "stream",
          "name": "stdout",
          "text": [
            "test 점수 : 0.97\n",
            "train점수 : 0.98\n"
          ]
        }
      ]
    },
    {
      "cell_type": "markdown",
      "source": [
        "# 128페이지 문제풀이"
      ],
      "metadata": {
        "id": "AcyOjAbvqV5o"
      }
    },
    {
      "cell_type": "code",
      "source": [
        "import numpy as np\n",
        "from sklearn.neighbors import KNeighborsRegressor\n",
        "\n",
        "knr = KNeighborsRegressor()\n",
        "X = np.arange(5,45).reshape(-1,1) #input : 1차원 배열을 2차원 배열로 전환 \n",
        "\n",
        "for n in [1,5,10]:\n",
        "  knr.n_neighbors = n \n",
        "  knr.fit(train_input, train_target)\n",
        "  prediction = knr.predict(X)\n",
        "\n",
        "  #두개의 그래프를 동시에 그림 \n",
        "  plt.scatter(train_input, train_target)\n",
        "  plt.plot(X, prediction)\n",
        "  plt.title(\"n_neighbors ={0}\".format(n))\n",
        "  plt.xlabel(\"length\")\n",
        "  plt.ylabel(\"weight\")\n",
        "  plt.show()\n",
        "\n",
        "\n",
        "#n이 증가함에 따라 모델은 더 일반화됨을 알 수 있다."
      ],
      "metadata": {
        "colab": {
          "base_uri": "https://localhost:8080/",
          "height": 851
        },
        "id": "zgyZm-NgqigM",
        "outputId": "45ba4048-8c74-4b9c-9280-3b96d9b5a42c"
      },
      "execution_count": null,
      "outputs": [
        {
          "output_type": "display_data",
          "data": {
            "text/plain": [
              "<Figure size 432x288 with 1 Axes>"
            ],
            "image/png": "[encoded data removed]"
          },
          "metadata": {
            "needs_background": "light"
          }
        },
        {
          "output_type": "display_data",
          "data": {
            "text/plain": [
              "<Figure size 432x288 with 1 Axes>"
            ],
            "image/png": "[encoded data removed]"
          },
          "metadata": {
            "needs_background": "light"
          }
        },
        {
          "output_type": "display_data",
          "data": {
            "text/plain": [
              "<Figure size 432x288 with 1 Axes>"
            ],
            "image/png": "[encoded data removed]"
          },
          "metadata": {
            "needs_background": "light"
          }
        }
      ]
    }
  ]
}