{
  "nbformat": 4,
  "nbformat_minor": 0,
  "metadata": {
    "colab": {
      "provenance": [],
      "collapsed_sections": [],
      "toc_visible": true,
      "authorship_tag": "ABX9TyMRvqaDiGMQJxvGxxcsKKR1",
      "include_colab_link": true
    },
    "kernelspec": {
      "name": "python3",
      "display_name": "Python 3"
    },
    "language_info": {
      "name": "python"
    }
  },
  "cells": [
    {
      "cell_type": "markdown",
      "metadata": {
        "id": "view-in-github",
        "colab_type": "text"
      },
      "source": [
        "<a href=\"https://colab.research.google.com/github/swleegit/Hongong_ML/blob/main/04_01%EB%A1%9C%EC%A7%80%EC%8A%A4%ED%8B%B1%ED%9A%8C%EA%B7%80.ipynb\" target=\"_parent\"><img src=\"https://colab.research.google.com/assets/colab-badge.svg\" alt=\"Open In Colab\"/></a>"
      ]
    },
    {
      "cell_type": "markdown",
      "source": [
        "# KNeighborsClassifer에서 확률\n",
        "[데이터](https://bit.ly/fish_csv_data)  \n",
        "\n"
      ],
      "metadata": {
        "id": "EV7sVYy6Np6R"
      }
    },
    {
      "cell_type": "code",
      "source": [
        "#데이터프레임은 배열 변환이 쉽고 사이킷런과 호환성이 좋다.\n",
        "#자체 통계와 그래프 메서드를 가지고 있다.\n",
        "import pandas as pd\n",
        "fish = pd.read_csv('https://bit.ly/fish_csv_data')\n",
        "fish.head(50)"
      ],
      "metadata": {
        "colab": {
          "base_uri": "https://localhost:8080/",
          "height": 1000
        },
        "id": "hUnQ1r0lOB5H",
        "outputId": "d95a35ca-b170-4bf7-81f2-ef3a34edcfd7"
      },
      "execution_count": 1,
      "outputs": [
        {
          "output_type": "execute_result",
          "data": {
            "text/plain": [
              "   Species  Weight  Length  Diagonal   Height   Width\n",
              "0    Bream   242.0    25.4      30.0  11.5200  4.0200\n",
              "1    Bream   290.0    26.3      31.2  12.4800  4.3056\n",
              "2    Bream   340.0    26.5      31.1  12.3778  4.6961\n",
              "3    Bream   363.0    29.0      33.5  12.7300  4.4555\n",
              "4    Bream   430.0    29.0      34.0  12.4440  5.1340\n",
              "5    Bream   450.0    29.7      34.7  13.6024  4.9274\n",
              "6    Bream   500.0    29.7      34.5  14.1795  5.2785\n",
              "7    Bream   390.0    30.0      35.0  12.6700  4.6900\n",
              "8    Bream   450.0    30.0      35.1  14.0049  4.8438\n",
              "9    Bream   500.0    30.7      36.2  14.2266  4.9594\n",
              "10   Bream   475.0    31.0      36.2  14.2628  5.1042\n",
              "11   Bream   500.0    31.0      36.2  14.3714  4.8146\n",
              "12   Bream   500.0    31.5      36.4  13.7592  4.3680\n",
              "13   Bream   340.0    32.0      37.3  13.9129  5.0728\n",
              "14   Bream   600.0    32.0      37.2  14.9544  5.1708\n",
              "15   Bream   600.0    32.0      37.2  15.4380  5.5800\n",
              "16   Bream   700.0    33.0      38.3  14.8604  5.2854\n",
              "17   Bream   700.0    33.0      38.5  14.9380  5.1975\n",
              "18   Bream   610.0    33.5      38.6  15.6330  5.1338\n",
              "19   Bream   650.0    33.5      38.7  14.4738  5.7276\n",
              "20   Bream   575.0    34.0      39.5  15.1285  5.5695\n",
              "21   Bream   685.0    34.0      39.2  15.9936  5.3704\n",
              "22   Bream   620.0    34.5      39.7  15.5227  5.2801\n",
              "23   Bream   680.0    35.0      40.6  15.4686  6.1306\n",
              "24   Bream   700.0    35.0      40.5  16.2405  5.5890\n",
              "25   Bream   725.0    35.0      40.9  16.3600  6.0532\n",
              "26   Bream   720.0    35.0      40.6  16.3618  6.0900\n",
              "27   Bream   714.0    36.0      41.5  16.5170  5.8515\n",
              "28   Bream   850.0    36.0      41.6  16.8896  6.1984\n",
              "29   Bream  1000.0    37.0      42.6  18.9570  6.6030\n",
              "30   Bream   920.0    38.5      44.1  18.0369  6.3063\n",
              "31   Bream   955.0    38.5      44.0  18.0840  6.2920\n",
              "32   Bream   925.0    39.5      45.3  18.7542  6.7497\n",
              "33   Bream   975.0    41.0      45.9  18.6354  6.7473\n",
              "34   Bream   950.0    41.0      46.5  17.6235  6.3705\n",
              "35   Roach    40.0    14.1      16.2   4.1472  2.2680\n",
              "36   Roach    69.0    18.2      20.3   5.2983  2.8217\n",
              "37   Roach    78.0    18.8      21.2   5.5756  2.9044\n",
              "38   Roach    87.0    19.8      22.2   5.6166  3.1746\n",
              "39   Roach   120.0    20.0      22.2   6.2160  3.5742\n",
              "40   Roach     0.0    20.5      22.8   6.4752  3.3516\n",
              "41   Roach   110.0    20.8      23.1   6.1677  3.3957\n",
              "42   Roach   120.0    21.0      23.7   6.1146  3.2943\n",
              "43   Roach   150.0    22.0      24.7   5.8045  3.7544\n",
              "44   Roach   145.0    22.0      24.3   6.6339  3.5478\n",
              "45   Roach   160.0    22.5      25.3   7.0334  3.8203\n",
              "46   Roach   140.0    22.5      25.0   6.5500  3.3250\n",
              "47   Roach   160.0    22.5      25.0   6.4000  3.8000\n",
              "48   Roach   169.0    24.0      27.2   7.5344  3.8352\n",
              "49   Roach   161.0    23.4      26.7   6.9153  3.6312"
            ],
            "text/html": [
              "\n",
              "  <div id=\"df-78aef4be-e5c0-4630-b32e-b721a87e09f9\">\n",
              "    <div class=\"colab-df-container\">\n",
              "      <div>\n",
              "<style scoped>\n",
              "    .dataframe tbody tr th:only-of-type {\n",
              "        vertical-align: middle;\n",
              "    }\n",
              "\n",
              "    .dataframe tbody tr th {\n",
              "        vertical-align: top;\n",
              "    }\n",
              "\n",
              "    .dataframe thead th {\n",
              "        text-align: right;\n",
              "    }\n",
              "</style>\n",
              "<table border=\"1\" class=\"dataframe\">\n",
              "  <thead>\n",
              "    <tr style=\"text-align: right;\">\n",
              "      <th></th>\n",
              "      <th>Species</th>\n",
              "      <th>Weight</th>\n",
              "      <th>Length</th>\n",
              "      <th>Diagonal</th>\n",
              "      <th>Height</th>\n",
              "      <th>Width</th>\n",
              "    </tr>\n",
              "  </thead>\n",
              "  <tbody>\n",
              "    <tr>\n",
              "      <th>0</th>\n",
              "      <td>Bream</td>\n",
              "      <td>242.0</td>\n",
              "      <td>25.4</td>\n",
              "      <td>30.0</td>\n",
              "      <td>11.5200</td>\n",
              "      <td>4.0200</td>\n",
              "    </tr>\n",
              "    <tr>\n",
              "      <th>1</th>\n",
              "      <td>Bream</td>\n",
              "      <td>290.0</td>\n",
              "      <td>26.3</td>\n",
              "      <td>31.2</td>\n",
              "      <td>12.4800</td>\n",
              "      <td>4.3056</td>\n",
              "    </tr>\n",
              "    <tr>\n",
              "      <th>2</th>\n",
              "      <td>Bream</td>\n",
              "      <td>340.0</td>\n",
              "      <td>26.5</td>\n",
              "      <td>31.1</td>\n",
              "      <td>12.3778</td>\n",
              "      <td>4.6961</td>\n",
              "    </tr>\n",
              "    <tr>\n",
              "      <th>3</th>\n",
              "      <td>Bream</td>\n",
              "      <td>363.0</td>\n",
              "      <td>29.0</td>\n",
              "      <td>33.5</td>\n",
              "      <td>12.7300</td>\n",
              "      <td>4.4555</td>\n",
              "    </tr>\n",
              "    <tr>\n",
              "      <th>4</th>\n",
              "      <td>Bream</td>\n",
              "      <td>430.0</td>\n",
              "      <td>29.0</td>\n",
              "      <td>34.0</td>\n",
              "      <td>12.4440</td>\n",
              "      <td>5.1340</td>\n",
              "    </tr>\n",
              "    <tr>\n",
              "      <th>5</th>\n",
              "      <td>Bream</td>\n",
              "      <td>450.0</td>\n",
              "      <td>29.7</td>\n",
              "      <td>34.7</td>\n",
              "      <td>13.6024</td>\n",
              "      <td>4.9274</td>\n",
              "    </tr>\n",
              "    <tr>\n",
              "      <th>6</th>\n",
              "      <td>Bream</td>\n",
              "      <td>500.0</td>\n",
              "      <td>29.7</td>\n",
              "      <td>34.5</td>\n",
              "      <td>14.1795</td>\n",
              "      <td>5.2785</td>\n",
              "    </tr>\n",
              "    <tr>\n",
              "      <th>7</th>\n",
              "      <td>Bream</td>\n",
              "      <td>390.0</td>\n",
              "      <td>30.0</td>\n",
              "      <td>35.0</td>\n",
              "      <td>12.6700</td>\n",
              "      <td>4.6900</td>\n",
              "    </tr>\n",
              "    <tr>\n",
              "      <th>8</th>\n",
              "      <td>Bream</td>\n",
              "      <td>450.0</td>\n",
              "      <td>30.0</td>\n",
              "      <td>35.1</td>\n",
              "      <td>14.0049</td>\n",
              "      <td>4.8438</td>\n",
              "    </tr>\n",
              "    <tr>\n",
              "      <th>9</th>\n",
              "      <td>Bream</td>\n",
              "      <td>500.0</td>\n",
              "      <td>30.7</td>\n",
              "      <td>36.2</td>\n",
              "      <td>14.2266</td>\n",
              "      <td>4.9594</td>\n",
              "    </tr>\n",
              "    <tr>\n",
              "      <th>10</th>\n",
              "      <td>Bream</td>\n",
              "      <td>475.0</td>\n",
              "      <td>31.0</td>\n",
              "      <td>36.2</td>\n",
              "      <td>14.2628</td>\n",
              "      <td>5.1042</td>\n",
              "    </tr>\n",
              "    <tr>\n",
              "      <th>11</th>\n",
              "      <td>Bream</td>\n",
              "      <td>500.0</td>\n",
              "      <td>31.0</td>\n",
              "      <td>36.2</td>\n",
              "      <td>14.3714</td>\n",
              "      <td>4.8146</td>\n",
              "    </tr>\n",
              "    <tr>\n",
              "      <th>12</th>\n",
              "      <td>Bream</td>\n",
              "      <td>500.0</td>\n",
              "      <td>31.5</td>\n",
              "      <td>36.4</td>\n",
              "      <td>13.7592</td>\n",
              "      <td>4.3680</td>\n",
              "    </tr>\n",
              "    <tr>\n",
              "      <th>13</th>\n",
              "      <td>Bream</td>\n",
              "      <td>340.0</td>\n",
              "      <td>32.0</td>\n",
              "      <td>37.3</td>\n",
              "      <td>13.9129</td>\n",
              "      <td>5.0728</td>\n",
              "    </tr>\n",
              "    <tr>\n",
              "      <th>14</th>\n",
              "      <td>Bream</td>\n",
              "      <td>600.0</td>\n",
              "      <td>32.0</td>\n",
              "      <td>37.2</td>\n",
              "      <td>14.9544</td>\n",
              "      <td>5.1708</td>\n",
              "    </tr>\n",
              "    <tr>\n",
              "      <th>15</th>\n",
              "      <td>Bream</td>\n",
              "      <td>600.0</td>\n",
              "      <td>32.0</td>\n",
              "      <td>37.2</td>\n",
              "      <td>15.4380</td>\n",
              "      <td>5.5800</td>\n",
              "    </tr>\n",
              "    <tr>\n",
              "      <th>16</th>\n",
              "      <td>Bream</td>\n",
              "      <td>700.0</td>\n",
              "      <td>33.0</td>\n",
              "      <td>38.3</td>\n",
              "      <td>14.8604</td>\n",
              "      <td>5.2854</td>\n",
              "    </tr>\n",
              "    <tr>\n",
              "      <th>17</th>\n",
              "      <td>Bream</td>\n",
              "      <td>700.0</td>\n",
              "      <td>33.0</td>\n",
              "      <td>38.5</td>\n",
              "      <td>14.9380</td>\n",
              "      <td>5.1975</td>\n",
              "    </tr>\n",
              "    <tr>\n",
              "      <th>18</th>\n",
              "      <td>Bream</td>\n",
              "      <td>610.0</td>\n",
              "      <td>33.5</td>\n",
              "      <td>38.6</td>\n",
              "      <td>15.6330</td>\n",
              "      <td>5.1338</td>\n",
              "    </tr>\n",
              "    <tr>\n",
              "      <th>19</th>\n",
              "      <td>Bream</td>\n",
              "      <td>650.0</td>\n",
              "      <td>33.5</td>\n",
              "      <td>38.7</td>\n",
              "      <td>14.4738</td>\n",
              "      <td>5.7276</td>\n",
              "    </tr>\n",
              "    <tr>\n",
              "      <th>20</th>\n",
              "      <td>Bream</td>\n",
              "      <td>575.0</td>\n",
              "      <td>34.0</td>\n",
              "      <td>39.5</td>\n",
              "      <td>15.1285</td>\n",
              "      <td>5.5695</td>\n",
              "    </tr>\n",
              "    <tr>\n",
              "      <th>21</th>\n",
              "      <td>Bream</td>\n",
              "      <td>685.0</td>\n",
              "      <td>34.0</td>\n",
              "      <td>39.2</td>\n",
              "      <td>15.9936</td>\n",
              "      <td>5.3704</td>\n",
              "    </tr>\n",
              "    <tr>\n",
              "      <th>22</th>\n",
              "      <td>Bream</td>\n",
              "      <td>620.0</td>\n",
              "      <td>34.5</td>\n",
              "      <td>39.7</td>\n",
              "      <td>15.5227</td>\n",
              "      <td>5.2801</td>\n",
              "    </tr>\n",
              "    <tr>\n",
              "      <th>23</th>\n",
              "      <td>Bream</td>\n",
              "      <td>680.0</td>\n",
              "      <td>35.0</td>\n",
              "      <td>40.6</td>\n",
              "      <td>15.4686</td>\n",
              "      <td>6.1306</td>\n",
              "    </tr>\n",
              "    <tr>\n",
              "      <th>24</th>\n",
              "      <td>Bream</td>\n",
              "      <td>700.0</td>\n",
              "      <td>35.0</td>\n",
              "      <td>40.5</td>\n",
              "      <td>16.2405</td>\n",
              "      <td>5.5890</td>\n",
              "    </tr>\n",
              "    <tr>\n",
              "      <th>25</th>\n",
              "      <td>Bream</td>\n",
              "      <td>725.0</td>\n",
              "      <td>35.0</td>\n",
              "      <td>40.9</td>\n",
              "      <td>16.3600</td>\n",
              "      <td>6.0532</td>\n",
              "    </tr>\n",
              "    <tr>\n",
              "      <th>26</th>\n",
              "      <td>Bream</td>\n",
              "      <td>720.0</td>\n",
              "      <td>35.0</td>\n",
              "      <td>40.6</td>\n",
              "      <td>16.3618</td>\n",
              "      <td>6.0900</td>\n",
              "    </tr>\n",
              "    <tr>\n",
              "      <th>27</th>\n",
              "      <td>Bream</td>\n",
              "      <td>714.0</td>\n",
              "      <td>36.0</td>\n",
              "      <td>41.5</td>\n",
              "      <td>16.5170</td>\n",
              "      <td>5.8515</td>\n",
              "    </tr>\n",
              "    <tr>\n",
              "      <th>28</th>\n",
              "      <td>Bream</td>\n",
              "      <td>850.0</td>\n",
              "      <td>36.0</td>\n",
              "      <td>41.6</td>\n",
              "      <td>16.8896</td>\n",
              "      <td>6.1984</td>\n",
              "    </tr>\n",
              "    <tr>\n",
              "      <th>29</th>\n",
              "      <td>Bream</td>\n",
              "      <td>1000.0</td>\n",
              "      <td>37.0</td>\n",
              "      <td>42.6</td>\n",
              "      <td>18.9570</td>\n",
              "      <td>6.6030</td>\n",
              "    </tr>\n",
              "    <tr>\n",
              "      <th>30</th>\n",
              "      <td>Bream</td>\n",
              "      <td>920.0</td>\n",
              "      <td>38.5</td>\n",
              "      <td>44.1</td>\n",
              "      <td>18.0369</td>\n",
              "      <td>6.3063</td>\n",
              "    </tr>\n",
              "    <tr>\n",
              "      <th>31</th>\n",
              "      <td>Bream</td>\n",
              "      <td>955.0</td>\n",
              "      <td>38.5</td>\n",
              "      <td>44.0</td>\n",
              "      <td>18.0840</td>\n",
              "      <td>6.2920</td>\n",
              "    </tr>\n",
              "    <tr>\n",
              "      <th>32</th>\n",
              "      <td>Bream</td>\n",
              "      <td>925.0</td>\n",
              "      <td>39.5</td>\n",
              "      <td>45.3</td>\n",
              "      <td>18.7542</td>\n",
              "      <td>6.7497</td>\n",
              "    </tr>\n",
              "    <tr>\n",
              "      <th>33</th>\n",
              "      <td>Bream</td>\n",
              "      <td>975.0</td>\n",
              "      <td>41.0</td>\n",
              "      <td>45.9</td>\n",
              "      <td>18.6354</td>\n",
              "      <td>6.7473</td>\n",
              "    </tr>\n",
              "    <tr>\n",
              "      <th>34</th>\n",
              "      <td>Bream</td>\n",
              "      <td>950.0</td>\n",
              "      <td>41.0</td>\n",
              "      <td>46.5</td>\n",
              "      <td>17.6235</td>\n",
              "      <td>6.3705</td>\n",
              "    </tr>\n",
              "    <tr>\n",
              "      <th>35</th>\n",
              "      <td>Roach</td>\n",
              "      <td>40.0</td>\n",
              "      <td>14.1</td>\n",
              "      <td>16.2</td>\n",
              "      <td>4.1472</td>\n",
              "      <td>2.2680</td>\n",
              "    </tr>\n",
              "    <tr>\n",
              "      <th>36</th>\n",
              "      <td>Roach</td>\n",
              "      <td>69.0</td>\n",
              "      <td>18.2</td>\n",
              "      <td>20.3</td>\n",
              "      <td>5.2983</td>\n",
              "      <td>2.8217</td>\n",
              "    </tr>\n",
              "    <tr>\n",
              "      <th>37</th>\n",
              "      <td>Roach</td>\n",
              "      <td>78.0</td>\n",
              "      <td>18.8</td>\n",
              "      <td>21.2</td>\n",
              "      <td>5.5756</td>\n",
              "      <td>2.9044</td>\n",
              "    </tr>\n",
              "    <tr>\n",
              "      <th>38</th>\n",
              "      <td>Roach</td>\n",
              "      <td>87.0</td>\n",
              "      <td>19.8</td>\n",
              "      <td>22.2</td>\n",
              "      <td>5.6166</td>\n",
              "      <td>3.1746</td>\n",
              "    </tr>\n",
              "    <tr>\n",
              "      <th>39</th>\n",
              "      <td>Roach</td>\n",
              "      <td>120.0</td>\n",
              "      <td>20.0</td>\n",
              "      <td>22.2</td>\n",
              "      <td>6.2160</td>\n",
              "      <td>3.5742</td>\n",
              "    </tr>\n",
              "    <tr>\n",
              "      <th>40</th>\n",
              "      <td>Roach</td>\n",
              "      <td>0.0</td>\n",
              "      <td>20.5</td>\n",
              "      <td>22.8</td>\n",
              "      <td>6.4752</td>\n",
              "      <td>3.3516</td>\n",
              "    </tr>\n",
              "    <tr>\n",
              "      <th>41</th>\n",
              "      <td>Roach</td>\n",
              "      <td>110.0</td>\n",
              "      <td>20.8</td>\n",
              "      <td>23.1</td>\n",
              "      <td>6.1677</td>\n",
              "      <td>3.3957</td>\n",
              "    </tr>\n",
              "    <tr>\n",
              "      <th>42</th>\n",
              "      <td>Roach</td>\n",
              "      <td>120.0</td>\n",
              "      <td>21.0</td>\n",
              "      <td>23.7</td>\n",
              "      <td>6.1146</td>\n",
              "      <td>3.2943</td>\n",
              "    </tr>\n",
              "    <tr>\n",
              "      <th>43</th>\n",
              "      <td>Roach</td>\n",
              "      <td>150.0</td>\n",
              "      <td>22.0</td>\n",
              "      <td>24.7</td>\n",
              "      <td>5.8045</td>\n",
              "      <td>3.7544</td>\n",
              "    </tr>\n",
              "    <tr>\n",
              "      <th>44</th>\n",
              "      <td>Roach</td>\n",
              "      <td>145.0</td>\n",
              "      <td>22.0</td>\n",
              "      <td>24.3</td>\n",
              "      <td>6.6339</td>\n",
              "      <td>3.5478</td>\n",
              "    </tr>\n",
              "    <tr>\n",
              "      <th>45</th>\n",
              "      <td>Roach</td>\n",
              "      <td>160.0</td>\n",
              "      <td>22.5</td>\n",
              "      <td>25.3</td>\n",
              "      <td>7.0334</td>\n",
              "      <td>3.8203</td>\n",
              "    </tr>\n",
              "    <tr>\n",
              "      <th>46</th>\n",
              "      <td>Roach</td>\n",
              "      <td>140.0</td>\n",
              "      <td>22.5</td>\n",
              "      <td>25.0</td>\n",
              "      <td>6.5500</td>\n",
              "      <td>3.3250</td>\n",
              "    </tr>\n",
              "    <tr>\n",
              "      <th>47</th>\n",
              "      <td>Roach</td>\n",
              "      <td>160.0</td>\n",
              "      <td>22.5</td>\n",
              "      <td>25.0</td>\n",
              "      <td>6.4000</td>\n",
              "      <td>3.8000</td>\n",
              "    </tr>\n",
              "    <tr>\n",
              "      <th>48</th>\n",
              "      <td>Roach</td>\n",
              "      <td>169.0</td>\n",
              "      <td>24.0</td>\n",
              "      <td>27.2</td>\n",
              "      <td>7.5344</td>\n",
              "      <td>3.8352</td>\n",
              "    </tr>\n",
              "    <tr>\n",
              "      <th>49</th>\n",
              "      <td>Roach</td>\n",
              "      <td>161.0</td>\n",
              "      <td>23.4</td>\n",
              "      <td>26.7</td>\n",
              "      <td>6.9153</td>\n",
              "      <td>3.6312</td>\n",
              "    </tr>\n",
              "  </tbody>\n",
              "</table>\n",
              "</div>\n",
              "      <button class=\"colab-df-convert\" onclick=\"convertToInteractive('df-78aef4be-e5c0-4630-b32e-b721a87e09f9')\"\n",
              "              title=\"Convert this dataframe to an interactive table.\"\n",
              "              style=\"display:none;\">\n",
              "        \n",
              "  <svg xmlns=\"http://www.w3.org/2000/svg\" height=\"24px\"viewBox=\"0 0 24 24\"\n",
              "       width=\"24px\">\n",
              "    <path d=\"M0 0h24v24H0V0z\" fill=\"none\"/>\n",
              "    <path d=\"M18.56 5.44l.94 2.06.94-2.06 2.06-.94-2.06-.94-.94-2.06-.94 2.06-2.06.94zm-11 1L8.5 8.5l.94-2.06 2.06-.94-2.06-.94L8.5 2.5l-.94 2.06-2.06.94zm10 10l.94 2.06.94-2.06 2.06-.94-2.06-.94-.94-2.06-.94 2.06-2.06.94z\"/><path d=\"M17.41 7.96l-1.37-1.37c-.4-.4-.92-.59-1.43-.59-.52 0-1.04.2-1.43.59L10.3 9.45l-7.72 7.72c-.78.78-.78 2.05 0 2.83L4 21.41c.39.39.9.59 1.41.59.51 0 1.02-.2 1.41-.59l7.78-7.78 2.81-2.81c.8-.78.8-2.07 0-2.86zM5.41 20L4 18.59l7.72-7.72 1.47 1.35L5.41 20z\"/>\n",
              "  </svg>\n",
              "      </button>\n",
              "      \n",
              "  <style>\n",
              "    .colab-df-container {\n",
              "      display:flex;\n",
              "      flex-wrap:wrap;\n",
              "      gap: 12px;\n",
              "    }\n",
              "\n",
              "    .colab-df-convert {\n",
              "      background-color: #E8F0FE;\n",
              "      border: none;\n",
              "      border-radius: 50%;\n",
              "      cursor: pointer;\n",
              "      display: none;\n",
              "      fill: #1967D2;\n",
              "      height: 32px;\n",
              "      padding: 0 0 0 0;\n",
              "      width: 32px;\n",
              "    }\n",
              "\n",
              "    .colab-df-convert:hover {\n",
              "      background-color: #E2EBFA;\n",
              "      box-shadow: 0px 1px 2px rgba(60, 64, 67, 0.3), 0px 1px 3px 1px rgba(60, 64, 67, 0.15);\n",
              "      fill: #174EA6;\n",
              "    }\n",
              "\n",
              "    [theme=dark] .colab-df-convert {\n",
              "      background-color: #3B4455;\n",
              "      fill: #D2E3FC;\n",
              "    }\n",
              "\n",
              "    [theme=dark] .colab-df-convert:hover {\n",
              "      background-color: #434B5C;\n",
              "      box-shadow: 0px 1px 3px 1px rgba(0, 0, 0, 0.15);\n",
              "      filter: drop-shadow(0px 1px 2px rgba(0, 0, 0, 0.3));\n",
              "      fill: #FFFFFF;\n",
              "    }\n",
              "  </style>\n",
              "\n",
              "      <script>\n",
              "        const buttonEl =\n",
              "          document.querySelector('#df-78aef4be-e5c0-4630-b32e-b721a87e09f9 button.colab-df-convert');\n",
              "        buttonEl.style.display =\n",
              "          google.colab.kernel.accessAllowed ? 'block' : 'none';\n",
              "\n",
              "        async function convertToInteractive(key) {\n",
              "          const element = document.querySelector('#df-78aef4be-e5c0-4630-b32e-b721a87e09f9');\n",
              "          const dataTable =\n",
              "            await google.colab.kernel.invokeFunction('convertToInteractive',\n",
              "                                                     [key], {});\n",
              "          if (!dataTable) return;\n",
              "\n",
              "          const docLinkHtml = 'Like what you see? Visit the ' +\n",
              "            '<a target=\"_blank\" href=https://colab.research.google.com/notebooks/data_table.ipynb>data table notebook</a>'\n",
              "            + ' to learn more about interactive tables.';\n",
              "          element.innerHTML = '';\n",
              "          dataTable['output_type'] = 'display_data';\n",
              "          await google.colab.output.renderOutput(dataTable, element);\n",
              "          const docLink = document.createElement('div');\n",
              "          docLink.innerHTML = docLinkHtml;\n",
              "          element.appendChild(docLink);\n",
              "        }\n",
              "      </script>\n",
              "    </div>\n",
              "  </div>\n",
              "  "
            ]
          },
          "metadata": {},
          "execution_count": 1
        }
      ]
    },
    {
      "cell_type": "code",
      "source": [
        "print(pd.value_counts(fish['Species']))\n",
        "print(pd.unique(fish['Species'])) #알파벳, 개수 순서 아님\n",
        "                                  #fish정렬상태에서 차례로 읽은 것 "
      ],
      "metadata": {
        "colab": {
          "base_uri": "https://localhost:8080/"
        },
        "id": "jnXpdn8dObKQ",
        "outputId": "08778b9c-bb5b-437f-ff3c-0746cd1dabda"
      },
      "execution_count": 2,
      "outputs": [
        {
          "output_type": "stream",
          "name": "stdout",
          "text": [
            "Perch        56\n",
            "Bream        35\n",
            "Roach        20\n",
            "Pike         17\n",
            "Smelt        14\n",
            "Parkki       11\n",
            "Whitefish     6\n",
            "Name: Species, dtype: int64\n",
            "['Bream' 'Roach' 'Whitefish' 'Parkki' 'Perch' 'Pike' 'Smelt']\n"
          ]
        }
      ]
    },
    {
      "cell_type": "code",
      "source": [
        "fish_input = fish[[\t'Weight',\t'Length',\t'Diagonal',\t'Height',\t'Width']].to_numpy()"
      ],
      "metadata": {
        "id": "ZCEqoQFEOs2X"
      },
      "execution_count": 3,
      "outputs": []
    },
    {
      "cell_type": "code",
      "source": [
        "print(fish_input[:5])"
      ],
      "metadata": {
        "colab": {
          "base_uri": "https://localhost:8080/"
        },
        "id": "f421shOKV5u3",
        "outputId": "e9e1b0c5-bce7-4d7c-9ba3-ccc1962025ee"
      },
      "execution_count": 4,
      "outputs": [
        {
          "output_type": "stream",
          "name": "stdout",
          "text": [
            "[[242.      25.4     30.      11.52     4.02  ]\n",
            " [290.      26.3     31.2     12.48     4.3056]\n",
            " [340.      26.5     31.1     12.3778   4.6961]\n",
            " [363.      29.      33.5     12.73     4.4555]\n",
            " [430.      29.      34.      12.444    5.134 ]]\n"
          ]
        }
      ]
    },
    {
      "cell_type": "code",
      "source": [
        "fish_target = fish['Species'].to_numpy()"
      ],
      "metadata": {
        "id": "g95MPpdMV9YA"
      },
      "execution_count": 5,
      "outputs": []
    },
    {
      "cell_type": "code",
      "source": [
        "from sklearn.model_selection import train_test_split\n",
        "train_input, test_input, train_target, test_target = \\\n",
        "train_test_split(fish_input, fish_target, random_state = 42)"
      ],
      "metadata": {
        "id": "6Aqt-ihoWGPV"
      },
      "execution_count": 6,
      "outputs": []
    },
    {
      "cell_type": "code",
      "source": [
        "#KNeighborsClassifier이니까 전처리과정이 필수 (거리기반 베이스니까)\n",
        "from sklearn.preprocessing import StandardScaler\n",
        "ss = StandardScaler().fit(train_input)\n",
        "train_scaled = ss.transform(train_input)\n",
        "test_scaled = ss.transform(test_input)\n"
      ],
      "metadata": {
        "id": "NwfLv5KjWaR4"
      },
      "execution_count": 7,
      "outputs": []
    },
    {
      "cell_type": "code",
      "source": [
        "from sklearn.neighbors import KNeighborsClassifier\n",
        "knn = KNeighborsClassifier(n_neighbors = 3).fit(train_scaled, train_target)\n",
        "print(knn.score(train_scaled, train_target))\n",
        "print(knn.score(test_scaled, test_target))"
      ],
      "metadata": {
        "colab": {
          "base_uri": "https://localhost:8080/"
        },
        "id": "6ftl9L8CW0eE",
        "outputId": "2fb957c8-577e-4f5c-dd5d-dfd70b98eaf5"
      },
      "execution_count": 8,
      "outputs": [
        {
          "output_type": "stream",
          "name": "stdout",
          "text": [
            "0.8907563025210085\n",
            "0.85\n"
          ]
        }
      ]
    },
    {
      "cell_type": "markdown",
      "source": [
        "- species에는 여러개의 클래스가 있으니 다중분류(multi-class classification)\n",
        "- 다중 분류에서도 타깃값을 숫자로 바꾸어 입력할 수 있지만 사이킷런에서는 편리하게도 문자열로 된 타깃값을 그대로 사용할 수 있다.\n",
        "- 이때 species의 순서를 아는 것이 중요한데\n",
        "타깃값을 그대로 사이킷런 모델에 전달하면 순서가 자동으로 알파벳 순서로 매겨진다.\n",
        "- pd.unique(fish['Species'])의 순서랑 다르다는 것!\n",
        "- 정렬된 타깃값은 classes_ 속성에 저장되어있다."
      ],
      "metadata": {
        "id": "nDV0xKLbX9gJ"
      }
    },
    {
      "cell_type": "code",
      "source": [
        "print(knn.classes_)"
      ],
      "metadata": {
        "colab": {
          "base_uri": "https://localhost:8080/"
        },
        "id": "u7BEvGaaXLmq",
        "outputId": "f35e9132-a36e-428e-9ddf-01b4cddc64de"
      },
      "execution_count": 9,
      "outputs": [
        {
          "output_type": "stream",
          "name": "stdout",
          "text": [
            "['Bream' 'Parkki' 'Perch' 'Pike' 'Roach' 'Smelt' 'Whitefish']\n"
          ]
        }
      ]
    },
    {
      "cell_type": "code",
      "source": [
        "#타깃값을 문자열로 해놨으면 predict의 결과도 문자열 \n",
        "print(knn.predict(test_scaled[:5]))"
      ],
      "metadata": {
        "colab": {
          "base_uri": "https://localhost:8080/"
        },
        "id": "jZOzHo-uYTYv",
        "outputId": "9dbfb121-1353-4223-da4f-92fd8f01a042"
      },
      "execution_count": 10,
      "outputs": [
        {
          "output_type": "stream",
          "name": "stdout",
          "text": [
            "['Perch' 'Smelt' 'Pike' 'Perch' 'Perch']\n"
          ]
        }
      ]
    },
    {
      "cell_type": "code",
      "source": [
        "#분류기는 모두 그것의 근거인 확률값을 가지고 있다.\n",
        "#해당 메소드는 predict_proba() : 샘플당 클래스별 확률값을 반환\n",
        "\n",
        "#np.round()는 기본적으로 소수점 첫째 자리에서 반올림하는데,\n",
        "#decimals 매개변수로 유지할 소수점 아래 자릿수를 지정할 수 있다.\n",
        "\n",
        "import numpy as np \n",
        "proba = knn.predict_proba(test_scaled[:5])\n",
        "print(np.round(proba, decimals = 4))\n",
        "\n",
        "#열의 순서는 .classes_의 순서로 알면된다.\n",
        "#KNeighborsClassifier은 3개의 이웃중 몇개로 확률을 나타낸다."
      ],
      "metadata": {
        "colab": {
          "base_uri": "https://localhost:8080/"
        },
        "id": "Kr2hy62kYbbD",
        "outputId": "2f4acc1b-0d6d-474e-c5e0-e6a046c38e30"
      },
      "execution_count": 11,
      "outputs": [
        {
          "output_type": "stream",
          "name": "stdout",
          "text": [
            "[[0.     0.     1.     0.     0.     0.     0.    ]\n",
            " [0.     0.     0.     0.     0.     1.     0.    ]\n",
            " [0.     0.     0.     1.     0.     0.     0.    ]\n",
            " [0.     0.     0.6667 0.     0.3333 0.     0.    ]\n",
            " [0.     0.     0.6667 0.     0.3333 0.     0.    ]]\n"
          ]
        }
      ]
    },
    {
      "cell_type": "code",
      "source": [
        "#이 확률이 맞는지 직접확인해보자.\n",
        "#기본적으로 거리와 index를 반환하는 kneighbors()메서드의 입력은 2차원 배열이어야한다.\n",
        "#이를 위해 넘파이 배열의 슬라이싱 연산자를 사용 : 슬라이싱 연산자는 하나의 샘플만 선택해도 항상 2차원 배열이 만들어진다.\n",
        "\n",
        "#여기서는 거리값이 필요없으니 억제를 하면 \n",
        "\n",
        "indexes = knn.kneighbors(test_scaled[3:4], return_distance = False)\n",
        "print(train_target[indexes])\n",
        "\n",
        "#훈련데이터가 저장(학습)되어 있고 거기에 test샘플을 놓았을 때\n",
        "#근처 3개 훈련데이터의 index를 알려주는 것이고\n",
        "#그 근처 훈련데이터의 target 값을 알고 싶은거니 train_target[indexes]"
      ],
      "metadata": {
        "colab": {
          "base_uri": "https://localhost:8080/"
        },
        "id": "Lc1LL6KiZNv-",
        "outputId": "0f22d39d-3502-47cb-b1fd-9ca01a88cdd6"
      },
      "execution_count": 12,
      "outputs": [
        {
          "output_type": "stream",
          "name": "stdout",
          "text": [
            "[['Roach' 'Perch' 'Perch']]\n"
          ]
        }
      ]
    },
    {
      "cell_type": "markdown",
      "source": [
        "# 로지스틱 회귀(LogisticRegression)\n",
        "- 로지스틱 회귀는 이름은 회귀이지만 분류 모델이다.\n",
        "\n",
        "- 선형 회귀와 동일하게 선형 방정식을 학습한다.\n",
        "\n",
        "<img src = \"https://drive.google.com/uc?id=1K1aqL96y3E55kzxvDFP7BSUhIiBa0xpG\">\n",
        "\n",
        "- 확률로 분류를 시도하려면 확률은 0~1 사이의 값이 되어야함.\n",
        "\n",
        "- 그래서 z값이 아주 큰 음수 일 때 0이되고 아주 큰 양수일 때 1이 되도록 바꿔서 처리를 해야함. \n",
        "\n",
        "- 시그모이드함수(sigmoid function)=로지스틱회귀(logistic function)을 사용하면 가능하다. (=z를 0~1 사이의 확률값으로 변환가능하다.\n",
        "\n",
        "<img src = \"https://drive.google.com/uc?id=15zIelkXh3eqzPg9mORRos6EGcPYqEiQM\">\n"
      ],
      "metadata": {
        "id": "T1VGvll9dGAL"
      }
    },
    {
      "cell_type": "code",
      "source": [
        "#해당 그래프를 직접 그려보자.\n",
        "\n",
        "import numpy as np\n",
        "import matplotlib.pyplot as plt\n",
        "z = np.arange(-5, 5 , 0.1)\n",
        "phi = 1 / (1 + np.exp(-z))\n",
        "plt.plot(z, phi)\n",
        "plt.xlabel('z')\n",
        "plt.ylabel('phi')\n",
        "plt.show()"
      ],
      "metadata": {
        "colab": {
          "base_uri": "https://localhost:8080/",
          "height": 279
        },
        "id": "BbFje0LedP6H",
        "outputId": "41b847d4-1f37-4c83-aeea-83d892af09c6"
      },
      "execution_count": 13,
      "outputs": [
        {
          "output_type": "display_data",
          "data": {
            "text/plain": [
              "<Figure size 432x288 with 1 Axes>"
            ],
            "image/png": "[encoded data removed]"
          },
          "metadata": {
            "needs_background": "light"
          }
        }
      ]
    },
    {
      "cell_type": "code",
      "source": [
        "#이진분류에서 로지스틱회귀\n",
        "#시그모이드 함수값이 0.5보다 크면 양성클래스(1), 0.5보다 작으면 음성클래스(0)\n",
        "#0.5면 음성클래스로 추측한다.\n"
      ],
      "metadata": {
        "id": "N1BUgZAHdLHs"
      },
      "execution_count": 14,
      "outputs": []
    },
    {
      "cell_type": "markdown",
      "source": [
        "# 불리언 인덱싱(boolean indexing)\n",
        "- numpy, dataframe은 True, False 값을 전달하여 행을 선택할 수 있다.\n",
        "- 행번호로 행을 선택할 수 있듯이 모든 행에 대해 True, False를 지정하여 True인 행을 뽑아낼 수 있다.\n",
        "- 즉 어떤 특정 조건을 만족하는 행을 뽑을 수 있다.\n"
      ],
      "metadata": {
        "id": "VgW15cFP5hZX"
      }
    },
    {
      "cell_type": "code",
      "source": [
        "char_arr = np.array(['A', 'B', 'C', 'D', 'E']) #리스트는 불리언 인덱싱이 안됨 \n",
        "print(char_arr[[True, False, True, False, False]]) #이중괄호\n"
      ],
      "metadata": {
        "colab": {
          "base_uri": "https://localhost:8080/"
        },
        "id": "csNHeZjW6MYV",
        "outputId": "e1f8ceed-ad1c-4576-a8e7-623d5d81d2ad"
      },
      "execution_count": 15,
      "outputs": [
        {
          "output_type": "stream",
          "name": "stdout",
          "text": [
            "['A' 'C']\n"
          ]
        }
      ]
    },
    {
      "cell_type": "code",
      "source": [
        "#이진분류를 위해 bream , smelt만 골라오자 \n",
        "bream_smelt_indexes = (train_target == 'Bream') | (train_target == 'Smelt')\n",
        "train_bream_smelt = train_scaled[bream_smelt_indexes] #[[]]\n",
        "target_bream_smelt = train_target[bream_smelt_indexes]\n"
      ],
      "metadata": {
        "id": "J8VsH7l86mUR"
      },
      "execution_count": 16,
      "outputs": []
    },
    {
      "cell_type": "code",
      "source": [
        "#로지스틱회귀는 선형모델이므로 sklearn.linear_model에 있다.\n",
        "from sklearn.linear_model import LogisticRegression\n",
        "lr = LogisticRegression().fit(train_bream_smelt, target_bream_smelt)\n",
        "print(lr.predict(train_bream_smelt[:5]))"
      ],
      "metadata": {
        "colab": {
          "base_uri": "https://localhost:8080/"
        },
        "id": "LZRggH5n7nwr",
        "outputId": "4147e6d2-e515-4f4d-ad2b-18a60d5c16e1"
      },
      "execution_count": 17,
      "outputs": [
        {
          "output_type": "stream",
          "name": "stdout",
          "text": [
            "['Bream' 'Smelt' 'Bream' 'Bream' 'Bream']\n"
          ]
        }
      ]
    },
    {
      "cell_type": "code",
      "source": [
        "#LogisticRegression도 분류모델이기 때문에 predict_proba()를 제공한다.\n",
        "print(lr.predict_proba(train_bream_smelt[:5]))\n"
      ],
      "metadata": {
        "colab": {
          "base_uri": "https://localhost:8080/"
        },
        "id": "779-K87I8Xxh",
        "outputId": "b01f14de-1eb4-4417-ef16-262b32e0645f"
      },
      "execution_count": 18,
      "outputs": [
        {
          "output_type": "stream",
          "name": "stdout",
          "text": [
            "[[0.99759855 0.00240145]\n",
            " [0.02735183 0.97264817]\n",
            " [0.99486072 0.00513928]\n",
            " [0.98584202 0.01415798]\n",
            " [0.99767269 0.00232731]]\n"
          ]
        }
      ]
    },
    {
      "cell_type": "code",
      "source": [
        "#이진분류에서 첫번째 열이 음성(0) 두번째 열이 양성(1)\n",
        "#어떤게 양성이고 음성임?\n",
        "#사이킷런에서는 알파벳 순서로 class를 배치한다.\n",
        "print(lr.classes_)\n",
        "\n",
        "#여기서는 smelt가 양성\n"
      ],
      "metadata": {
        "colab": {
          "base_uri": "https://localhost:8080/"
        },
        "id": "sqCv1MHV81-d",
        "outputId": "eea560ec-e2ab-49a4-a458-6fbff5b422a0"
      },
      "execution_count": 19,
      "outputs": [
        {
          "output_type": "stream",
          "name": "stdout",
          "text": [
            "['Bream' 'Smelt']\n"
          ]
        }
      ]
    },
    {
      "cell_type": "markdown",
      "source": [
        "- 위의 표를 해석하면 음성일 확률이 왼쪽을 읽으면 되고 1 - 그 확률이 오른쪽 양성일 확률, 높은 값이 예측 클래스값이다.\n",
        "\n",
        "- decision_function을 통해서 확률로 변환되기 전에 z값을 알 수가 있는데 이 때 z값은 양성에 대한 z값이다.\n",
        "\n",
        "- 문자열로 클래스로 나눈경우 내가 어떤 것이 목표(양성)인지 알면 구분하는 것은 전혀 문제되지 않지만, 만약 양성클래스의 z 값만 따로 알고 싶은데 알파벳 순서때문에 양성음성이 뒤집히면 귀찮아진다.  \n",
        "- 이럴때는 양성클래스를 1로 지정하여 양성에 대한 z 값을 바로 얻을수록 변환하는것이 좋다."
      ],
      "metadata": {
        "id": "aVSDVu2K-seD"
      }
    },
    {
      "cell_type": "code",
      "source": [
        "print(lr.coef_, lr.intercept_)"
      ],
      "metadata": {
        "colab": {
          "base_uri": "https://localhost:8080/"
        },
        "id": "WM_UsOC4tWp-",
        "outputId": "2ea07a09-a858-4247-a64a-7a261a91c522"
      },
      "execution_count": 20,
      "outputs": [
        {
          "output_type": "stream",
          "name": "stdout",
          "text": [
            "[[-0.4037798  -0.57620209 -0.66280298 -1.01290277 -0.73168947]] [-2.16155132]\n"
          ]
        }
      ]
    },
    {
      "cell_type": "code",
      "source": [
        "#양성(smelt) z 값 출력 \n",
        "decisions = lr.decision_function(train_bream_smelt[:5])\n",
        "print(decisions)"
      ],
      "metadata": {
        "colab": {
          "base_uri": "https://localhost:8080/"
        },
        "id": "mmkCJTWEtkUC",
        "outputId": "3f5d5195-3334-45ab-ae1f-ad44d1704e43"
      },
      "execution_count": 25,
      "outputs": [
        {
          "output_type": "stream",
          "name": "stdout",
          "text": [
            "[-6.02927744  3.57123907 -5.26568906 -4.24321775 -6.0607117 ]\n"
          ]
        }
      ]
    },
    {
      "cell_type": "code",
      "source": [
        "#해당 z값을 시그모이드 함수에 대입하면 양성(smelt)에 대한 확률을 얻을 수 있다.\n",
        "#np.exp 대신에 expit함수를 사용하자\n",
        "\n",
        "from scipy.special import expit\n",
        "print(expit(decisions))"
      ],
      "metadata": {
        "colab": {
          "base_uri": "https://localhost:8080/"
        },
        "id": "U288KFqYtydY",
        "outputId": "3253af68-6304-4a16-ee54-12edabe6469e"
      },
      "execution_count": 26,
      "outputs": [
        {
          "output_type": "stream",
          "name": "stdout",
          "text": [
            "[0.00240145 0.97264817 0.00513928 0.01415798 0.00232731]\n"
          ]
        }
      ]
    },
    {
      "cell_type": "markdown",
      "source": [
        "# 로지스틱 회귀로 다중 분류 수행하기\n",
        "- 로지스틱회귀는 기본적으로 반복적인 알고리즘을 사용한다.\n",
        "\n",
        "- max_iter로 반복횟수를 조정할 수 있다.\n",
        "\n",
        "- LogisticRegression은 기본적으로 릿지회귀와 같이 계수의 제곱으로 규제를 한다.  \n",
        "이러한 규제를 L2라고 한다.\n",
        "\n",
        "- 로지스틱회귀에서는 C(기본값 = 1)로 규제의 정도를 조절하며 C가 클수록 규제는 작아지고 W 값은 커지게 된다. (alpha와 반대)\n",
        "\n",
        "- solver 매개변수에서 사용할 알고리즘을 선택할 수 있다.\n",
        "\n",
        "  - 기본값은 'lbfgs'\n",
        "  - sag : 확률적 평균 경사 하강법으로 특성과 샘플 수가 많을 때 성능은 빠르고 좋다.\n",
        "  - saga : sag의 개선 버전\n",
        "\n",
        "- penalty 매개변수에서 l2(릿지) l1(라쏘) 선택 가능하다. 기본값이 l2임 기본적으로 규제가 있음.\n",
        "\n"
      ],
      "metadata": {
        "id": "X6JrfXRDuHLE"
      }
    },
    {
      "cell_type": "code",
      "source": [
        "lr = LogisticRegression(C = 20, max_iter = 1000) #L2규제, 계수가 사라지지 않음\n",
        "lr.fit(train_scaled, train_target)\n",
        "print(lr.score(train_scaled, train_target))\n",
        "print(lr.score(test_scaled, test_target))"
      ],
      "metadata": {
        "colab": {
          "base_uri": "https://localhost:8080/"
        },
        "id": "6DLZ6cnt2b_l",
        "outputId": "9aabc1ec-518a-4711-c9c0-03eacebf8ab4"
      },
      "execution_count": 27,
      "outputs": [
        {
          "output_type": "stream",
          "name": "stdout",
          "text": [
            "0.9327731092436975\n",
            "0.925\n"
          ]
        }
      ]
    },
    {
      "cell_type": "code",
      "source": [
        "print(lr.predict(test_scaled[:5]))\n"
      ],
      "metadata": {
        "colab": {
          "base_uri": "https://localhost:8080/"
        },
        "id": "naSYuGQa20Pv",
        "outputId": "e56f2b3b-eea5-41a1-e153-9cf583444fc3"
      },
      "execution_count": 28,
      "outputs": [
        {
          "output_type": "stream",
          "name": "stdout",
          "text": [
            "['Perch' 'Smelt' 'Pike' 'Roach' 'Perch']\n"
          ]
        }
      ]
    },
    {
      "cell_type": "code",
      "source": [
        "#7개의 클래스에 대한 샘플 5개의 각각의 확률 \n",
        "proba = lr.predict_proba(test_scaled[:5])\n",
        "print(np.round(proba, decimals = 3))"
      ],
      "metadata": {
        "colab": {
          "base_uri": "https://localhost:8080/"
        },
        "id": "Xt5ostXz27iA",
        "outputId": "e4d752c9-72d2-4ee4-c384-ce71f6d2cabb"
      },
      "execution_count": 29,
      "outputs": [
        {
          "output_type": "stream",
          "name": "stdout",
          "text": [
            "[[0.    0.014 0.841 0.    0.136 0.007 0.003]\n",
            " [0.    0.003 0.044 0.    0.007 0.946 0.   ]\n",
            " [0.    0.    0.034 0.935 0.015 0.016 0.   ]\n",
            " [0.011 0.034 0.306 0.007 0.567 0.    0.076]\n",
            " [0.    0.    0.904 0.002 0.089 0.002 0.001]]\n"
          ]
        }
      ]
    },
    {
      "cell_type": "code",
      "source": [
        "#각 열의 확률이 어떤 클래스에 대한 확률인가?\n",
        "print(lr.classes_)"
      ],
      "metadata": {
        "colab": {
          "base_uri": "https://localhost:8080/"
        },
        "id": "GGiZSVDj3UzY",
        "outputId": "7b159494-ca23-4315-f30a-164e886956c1"
      },
      "execution_count": 30,
      "outputs": [
        {
          "output_type": "stream",
          "name": "stdout",
          "text": [
            "['Bream' 'Parkki' 'Perch' 'Pike' 'Roach' 'Smelt' 'Whitefish']\n"
          ]
        }
      ]
    },
    {
      "cell_type": "code",
      "source": [
        "print(lr.coef_.shape, lr.intercept_.shape)\n",
        "#계수 7행 5열 클래스 7개니까 선형식 7개, 특성은 5개니까 미지수 5개"
      ],
      "metadata": {
        "colab": {
          "base_uri": "https://localhost:8080/"
        },
        "id": "-Jcn_hwa3dMl",
        "outputId": "4a1f6b16-2b94-4b46-ccb4-3b85ef491e89"
      },
      "execution_count": 31,
      "outputs": [
        {
          "output_type": "stream",
          "name": "stdout",
          "text": [
            "(7, 5) (7,)\n"
          ]
        }
      ]
    },
    {
      "cell_type": "markdown",
      "source": [
        "# softmax\n",
        "- 이진분류에서는 시그모이드 함수를 이용해 z를 0과 1 사이의 값으로 변환 \n",
        "- 다중분류는 이와 달리 소프트맥스 함수를 사용하여 여러개의 선형방정식의 출력값을 0과 1 사이로 압축하고 전체합이 1이 되도록 만든다.\n",
        "- 이를 위해 지수함수를 사용하기 때문에 정규화된 지수 함수라고도 부른다.\n"
      ],
      "metadata": {
        "id": "m5TZmBTK30mv"
      }
    },
    {
      "cell_type": "code",
      "source": [
        "decision = lr.decision_function(test_scaled[:5])\n",
        "print(np.round(decision, decimals = 2))\n",
        "\n",
        "#5개의 샘플, 클래스는 7개, 선형식 7개, 각 샘플당 각 클래스 선형식에 대입한 z값을 반환\n",
        "#당연히 각 z 값을 소프트맥스 함수를 취하면 위의 확률과 같게 나오게 된다."
      ],
      "metadata": {
        "colab": {
          "base_uri": "https://localhost:8080/"
        },
        "id": "JJzwY4Ql4Ymk",
        "outputId": "4dbb9a3f-0679-4005-ecea-5eb1a5dcdafe"
      },
      "execution_count": 32,
      "outputs": [
        {
          "output_type": "stream",
          "name": "stdout",
          "text": [
            "[[ -6.5    1.03   5.16  -2.73   3.34   0.33  -0.63]\n",
            " [-10.86   1.93   4.77  -2.4    2.98   7.84  -4.26]\n",
            " [ -4.34  -6.23   3.17   6.49   2.36   2.42  -3.87]\n",
            " [ -0.68   0.45   2.65  -1.19   3.26  -5.75   1.26]\n",
            " [ -6.4   -1.99   5.82  -0.11   3.5   -0.11  -0.71]]\n"
          ]
        }
      ]
    },
    {
      "cell_type": "code",
      "source": [
        "from scipy.special import softmax\n",
        "proba = softmax(decision, axis = 1) #행 기준 확률을 구한다. 각 샘플별로 \n",
        "                                    #만약 axis를 지정하지 않으면 전체 35개 데이터에 대한 softmax 결과값\n",
        "print(np.round(proba, decimals = 3))"
      ],
      "metadata": {
        "colab": {
          "base_uri": "https://localhost:8080/"
        },
        "id": "hcEiKmBd6B1r",
        "outputId": "ee72e5cb-14fd-47f4-f3ef-aa1e4e731ec1"
      },
      "execution_count": 33,
      "outputs": [
        {
          "output_type": "stream",
          "name": "stdout",
          "text": [
            "[[0.    0.014 0.841 0.    0.136 0.007 0.003]\n",
            " [0.    0.003 0.044 0.    0.007 0.946 0.   ]\n",
            " [0.    0.    0.034 0.935 0.015 0.016 0.   ]\n",
            " [0.011 0.034 0.306 0.007 0.567 0.    0.076]\n",
            " [0.    0.    0.904 0.002 0.089 0.002 0.001]]\n"
          ]
        }
      ]
    },
    {
      "cell_type": "markdown",
      "source": [
        "로지스틱회귀 설명"
      ],
      "metadata": {
        "id": "oIrrTqBXNsca"
      }
    },
    {
      "cell_type": "markdown",
      "source": [
        "<img src = \"https://drive.google.com/uc?id=1bhYyNkz9NUTn7kLppmdmmitJ-YI3eArA\">\n",
        "\n"
      ],
      "metadata": {
        "id": "tM1cJZKk7T-c"
      }
    },
    {
      "cell_type": "markdown",
      "source": [
        "참고 : 로지스틱회귀 설명\n",
        "(책 \"파이썬 라이브러리를 활용한 머신러닝\") -96p  \n",
        "\n",
        "<img src = \"https://drive.google.com/uc?id=1-mXXBYsSM3irggueLtTxy0fekUGnKUN0\">"
      ],
      "metadata": {
        "id": "rnPimZl1Nruk"
      }
    }
  ]
}